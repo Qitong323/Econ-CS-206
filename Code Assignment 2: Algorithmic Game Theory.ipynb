{
  "nbformat": 4,
  "nbformat_minor": 0,
  "metadata": {
    "colab": {
      "name": "““CS/Econ 206 Computational Microeconomics: Code Assignment 2.ipynb”的副本”的副本",
      "provenance": [],
      "include_colab_link": true
    },
    "kernelspec": {
      "name": "python3",
      "display_name": "Python 3"
    },
    "language_info": {
      "name": "python"
    }
  },
  "cells": [
    {
      "cell_type": "markdown",
      "metadata": {
        "id": "view-in-github",
        "colab_type": "text"
      },
      "source": [
        "<a href=\"https://colab.research.google.com/github/Qitong323/Econ-CS-206/blob/main/Code%20Assignment%202%3A%20Algorithmic%20Game%20Theory.ipynb\" target=\"_parent\"><img src=\"https://colab.research.google.com/assets/colab-badge.svg\" alt=\"Open In Colab\"/></a>"
      ]
    },
    {
      "cell_type": "markdown",
      "source": [
        "**Submitted by**: \n",
        "\n",
        "Qitong Cao, [LinkedIn](https://www.linkedin.com/in/natalie-cao-568a28176/):\n",
        "Majoring in [Applied Mathematics]\n",
        "Class of [2022]\n",
        "\n",
        "Duke Kunshan University\n",
        "\n",
        "\n",
        "---\n",
        "\n"
      ],
      "metadata": {
        "id": "T_st2ocVHzSR"
      }
    },
    {
      "cell_type": "markdown",
      "source": [
        "*Disclaimer: Submissions to Problem Set 1 for COMPSCI/ECON 206 Computational Microeconomics, 2022 Spring Term (Seven Week - Second) instructed by [Prof. Luyao Zhang](http://scholars.duke.edu/person/luyao.zhang) at Duke Kunshan University.*"
      ],
      "metadata": {
        "id": "kUAwQRcLHrTC"
      }
    },
    {
      "cell_type": "markdown",
      "source": [
        "**Resources:**\n",
        "\n",
        "*   Colab Instructions: https://colab.research.google.com/\n",
        "*   Markdown Guide: https://www.markdownguide.org\n",
        "*   Latex Math wiki: https://en.wikibooks.org/wiki/LaTeX/Mathematics\n",
        "\n",
        "\n",
        "*   OER: https://ie.pubpub.org/pub/gpd9nks0/release/2\n",
        "\n",
        "\n",
        "\n",
        "\n",
        "\n",
        "---\n",
        "\n",
        "\n",
        "\n",
        "\n",
        "\n",
        "\n",
        "\n",
        "\n",
        "\n",
        "\n",
        "\n"
      ],
      "metadata": {
        "id": "ZnzuAQJWBADa"
      }
    },
    {
      "cell_type": "markdown",
      "source": [
        "# Part I: Game Theory Concepts (6 points)"
      ],
      "metadata": {
        "id": "gu1DcOeIESvh"
      }
    },
    {
      "cell_type": "markdown",
      "source": [
        "**Note:**\n",
        "\n",
        "*if you can't find definitions in the second computer science textbook, you can also refer to the algorithmic game theory textbook for substitutions.*"
      ],
      "metadata": {
        "id": "jOSZqLH-qA5_"
      }
    },
    {
      "cell_type": "markdown",
      "source": [
        "## 1. Normal Form Game"
      ],
      "metadata": {
        "id": "NspwLDHa_eM3"
      }
    },
    {
      "cell_type": "markdown",
      "source": [
        "### 1.1. What defines a normal form game? Find answers in “A Course in Game Theory by Prof. Ariel Rubinstein and M. Osborne. ([Download](https://arielrubinstein.tau.ac.il/books.html)) "
      ],
      "metadata": {
        "id": "8XxzfHd8_o58"
      }
    },
    {
      "cell_type": "markdown",
      "source": [
        "**Definition 1.1 (Normal Form Game)** \n",
        "\n",
        "*A* **normal form game** (also known as a strategic game) is a model of interactive decision-making in which each decision-maker chooses his plan of action once and for all, and these choices are made simultaneously. [(Osborne and Rubinstein 1994, 11)](https://arielrubinstein.org/gt/arielDocs/downloadme.asp?id=1)"
      ],
      "metadata": {
        "id": "77RcxNkvAleZ"
      }
    },
    {
      "cell_type": "markdown",
      "source": [
        "### 1.2. What defines a normal form game? Find answers in “Multiagent Systems: Algorithmic, Game-Theoretic, and Logical Foundations” by Prof. Yoav Shoham and Kevin Leyton-Brown. ([Download](http://www.masfoundations.org/download.html))"
      ],
      "metadata": {
        "id": "uuDq5spD_3zM"
      }
    },
    {
      "cell_type": "markdown",
      "source": [
        "**Definition 1.2 (Normal-form game)**\n",
        "\n",
        "*A (finite, n-person)* **normal-form game** *is a tple (N, A, u), where:*\n",
        "\n",
        "\n",
        "*   $N$ *is a finite set of n players, indexed by* $i$; \n",
        "*   $A=A_{1}*...*A_{n}$, where $A_{i}$ is a finite set of actions available to player $i$. Each vector $a=(a_{1},...,a_{n})\\in A$ *is called an* action profile;\n",
        "\n",
        "\n",
        "*   $u=(u_{1},...,u_{n})$ where $u_{i}:A→R$ is *real-valued* utility (*or* payoff) function *for player $i$*.\n",
        "\n",
        "[(Shoham and Leyton-Brown 2009, 56)](http://www.masfoundations.org/mas.pdf) \n",
        "\n",
        "\n",
        "\n"
      ],
      "metadata": {
        "id": "KmArT2ypAw42"
      }
    },
    {
      "cell_type": "markdown",
      "source": [
        "## 2. Static Game with Complete Information and Nash Equilibrium"
      ],
      "metadata": {
        "id": "99joT2yo_ikP"
      }
    },
    {
      "cell_type": "markdown",
      "source": [
        "### 2.1. What defines Nash Equilibrium? Find answers in “A Course in Game Theory by Prof. Ariel Rubinstein and M. Osborne. ([Download](https://arielrubinstein.tau.ac.il/books.html)) "
      ],
      "metadata": {
        "id": "UmHrmxgFB_4Z"
      }
    },
    {
      "cell_type": "markdown",
      "source": [
        "**Definition 2.1.1 (Nash Equilibrium)**\n",
        "\n",
        "A **Nash equilibrium** of a strategic game $\\left\\langle N,\\left(A_{i}\\right)\\right.$, $\\left.\\left(\\succsim_{i}\\right)\\right\\rangle$ is a profile $a^{*} \\in A$ of actions with the property that for every player $i \\in N$ we have\n",
        "$$\n",
        "\\left(a_{-i}^{*}, a_{i}^{*}\\right) \\succsim_{i}\\left(a_{-i}^{*}, a_{i}\\right) \\text { for all } a_{i} \\in A_{i} .\n",
        "$$\n",
        "Thus for $a^{*}$ to be a Nash equilibrium it must be that no player $i$ has an action yielding an outcome that he prefers to that generated when he chooses $a_{i}^{*}$, given that every other player $j$ chooses his equilibrium action $a_{j}^{*}$. Briefly, no player can profitably deviate, given the actions of the other players. [(Osborne and Rubinstein 1994, 14)](https://arielrubinstein.org/gt/arielDocs/downloadme.asp?id=1)"
      ],
      "metadata": {
        "id": "7gYDMEltGSmj"
      }
    },
    {
      "cell_type": "markdown",
      "source": [
        "### 2.2. What defines Nash Equilibrium? Find answers in “Multiagent Systems: Algorithmic, Game-Theoretic, and Logical Foundations” by Prof. Yoav Shoham and Kevin Leyton-Brown. ([Download](http://www.masfoundations.org/download.html))"
      ],
      "metadata": {
        "id": "5lSqAe33Colc"
      }
    },
    {
      "cell_type": "markdown",
      "source": [
        "**Definition 2.2.1 (Nash Equilibrium)**\n",
        "\n",
        "A strategy profile $s=(s_{1},...,s_{n})$ is a **Nash equilibrium** if, for all agents $i$,$s$, is a best response to $s_{-i}$.\n",
        "\n",
        "Intuitively, a Nash equilibrium is a stable strategy profile: no agent would want\n",
        "to change his strategy if he knew what strategies the other agents were following.\n",
        "\n",
        "We can divide Nash equilibria into two categories, strict and weak, depending\n",
        "on whether or not every agent’s strategy constitutes a unique best response to the other agents’strategies.\n",
        "\n",
        "[(Shoham and Leyton-Brown 2009, 62-63)](http://www.masfoundations.org/mas.pdf) \n",
        "\n"
      ],
      "metadata": {
        "id": "OGqsuSzxGT0K"
      }
    },
    {
      "cell_type": "markdown",
      "source": [
        "## 3.Bayesian Game and Perfect Bayesian Nash Equilibrium"
      ],
      "metadata": {
        "id": "83uCgKjjC6y7"
      }
    },
    {
      "cell_type": "markdown",
      "source": [
        "### 3.1. How to define Bayesian Game and Bayesian Nash Equilibrium? Find answers in “A Course in Game Theory by Prof. Ariel Rubinstein and M. Osborne. ([Download](https://arielrubinstein.tau.ac.il/books.html)) "
      ],
      "metadata": {
        "id": "FkTUjpOwDBB3"
      }
    },
    {
      "cell_type": "markdown",
      "source": [
        "**Definition 3.1.1 (Bayesian Game)**\n",
        "\n",
        "A **Bayesian game** consists of\n",
        "- a finite set $N$ (the set of players)\n",
        "- a finite set $\\Omega$ (the set of states)\n",
        "and for each player $i \\in N$\n",
        "- a set $A_{i}$ (the set of actions available to player $i$ )\n",
        "- a finite set $T_{i}$ (the set of signals that may be observed by player $i$ ) and a function $\\tau_{i}: \\Omega \\rightarrow T_{i}$ (the signal function of player $i$ )\n",
        "- a probability measure $p_{i}$ on $\\Omega$ (the prior belief of player $i$ ) for which $p_{i}\\left(\\tau_{i}^{-1}\\left(t_{i}\\right)\\right)>0$ for all $t_{i} \\in T_{i}$\n",
        "- a preference relation $\\succsim_{i}$ on the set of probability measures over $A \\times \\Omega$ (the preference relation of player $i$ ), where $A=\\times_{j \\in N} A_{j}$.\n",
        "\n",
        "[(Osborne and Rubinstein 1994, 25)](https://arielrubinstein.org/gt/arielDocs/downloadme.asp?id=1)\n",
        "\n",
        "**Definirion 3.1.2 (Bayesian Nash Equilibrium)**\n",
        "\n",
        "A **Nash equilibrium** of a **Bayesian game** $\\langle N$, $\\left.\\Omega,\\left(A_{i}\\right),\\left(T_{i}\\right),\\left(\\tau_{i}\\right),\\left(p_{i}\\right),\\left(\\succsim_{i}\\right)\\right\\rangle$ is a Nash equilibrium of the strategic game defined as follows.\n",
        "- The set of players is the set of all pairs $\\left(i, t_{i}\\right)$ for $i \\in N$ and $t_{i} \\in T_{i}$.\n",
        "- The set of actions of each player $\\left(i, t_{i}\\right)$ is $A_{i}$.\n",
        "- The preference ordering $\\succsim_{\\left(i, t_{i}\\right)}^{*}$ of each player $\\left(i, t_{i}\\right)$ is defined by $a^{*} \\succsim_{\\left(i, t_{i}\\right)}^{*} b^{*}$ if and only if $L_{i}\\left(a^{*}, t_{i}\\right) \\succsim_{i} L_{i}\\left(b^{*}, t_{i}\\right)$,\n",
        "where $L_{i}\\left(a^{*}, t_{i}\\right)$ is the lottery over $A \\times \\Omega$ that assigns probability $p_{i}(\\omega) / p_{i}\\left(\\tau_{i}^{-1}\\left(t_{i}\\right)\\right)$ to $\\left(\\left(a^{*}\\left(j, \\tau_{j}(\\omega)\\right)\\right)_{j \\in N}, \\omega\\right)$ if $\\omega \\in \\tau_{i}^{-1}\\left(t_{i}\\right)$, zero otherwise.\n",
        "\n",
        "[(Osborne and Rubinstein 1994, 25)](https://arielrubinstein.org/gt/arielDocs/downloadme.asp?id=1)"
      ],
      "metadata": {
        "id": "bygsgchEGU2e"
      }
    },
    {
      "cell_type": "markdown",
      "source": [
        "### 3.2. How to define Bayesian Game and Beyesian Nash Equilibrium? Find answers in “Multiagent Systems: Algorithmic, Game-Theoretic, and Logical Foundations” by Prof. Yoav Shoham and Kevin Leyton-Brown. ([Download](http://www.masfoundations.org/download.html))"
      ],
      "metadata": {
        "id": "DzU78ISuDHbE"
      }
    },
    {
      "cell_type": "markdown",
      "source": [
        "**Definition 3.2.1 (Bayesian game: information sets)**\n",
        "\n",
        "A **Bayesian game** is a tuple (N,G,P,I) where:\n",
        "\n",
        "\n",
        "*   $N$ is a set of agents;\n",
        "*   $G$ is a set of games with $N$ agents each such that if $g$, $g\\prime\\in G$ then for each agent $i\\in N$ the strategy space in $g$ is identical to the strategy space in $g\\prime$;\n",
        "\n",
        "\n",
        "*   $P \\in Π(G)$ is a common prior over games, where $Π(G)$ is the set of all probability distributions over $G$; and\n",
        "*   $I=(I_{1},...,I_{N})$ is a turple of partitions of $G$, one for each agent.\n",
        "\n",
        "[(Shoham and Leyton-Brown 2009, 165)](http://www.masfoundations.org/mas.pdf) \n",
        "\n",
        "**Defition 3.2.2 (Bayesian game: types)**\n",
        "\n",
        "A **Bayesian game** is a trple ($N$, $A$, $Θ$, $p$, $u$) where:\n",
        "\n",
        "\n",
        "*   $N$ is a set of agents;\n",
        "*   $A=A_{1}×...× A_{n}$, where $A_{i}$ is the of set of actions available to player $i$;\n",
        "\n",
        "\n",
        "*   $Θ=Θ_{1}× ...×Θ_{n}$, where $Θ_{i}$ is rh etype of player $i$;\n",
        "\n",
        "*   $p:Θ→[0,1]$ is a common prior over types; and\n",
        "\n",
        "\n",
        "*   $u=(u_{1},...,u_{n}), where $u_{i}: A ×Θ→R$ is the utility function for player $i$.\n",
        "\n",
        "[(Shoham and Leyton-Brown 2009, 167)](http://www.masfoundations.org/mas.pdf) \n",
        "\n",
        "\n",
        "\n",
        "\n",
        "\n",
        "\n",
        "\n"
      ],
      "metadata": {
        "id": "XlUbTZbRGVu2"
      }
    },
    {
      "cell_type": "markdown",
      "source": [
        "## 4. Extensive Form Game"
      ],
      "metadata": {
        "id": "M_VYxieHDNoX"
      }
    },
    {
      "cell_type": "markdown",
      "source": [
        "### 4.1. How to define extensive form game? Find answers in “A Course in Game Theory by Prof. Ariel Rubinstein and M. Osborne. ([Download](https://arielrubinstein.tau.ac.il/books.html)) "
      ],
      "metadata": {
        "id": "yIf0IJ2yDSQw"
      }
    },
    {
      "cell_type": "markdown",
      "source": [
        "**Definition 4.1 (Extensive for game)**\n",
        "\n",
        "An extensive game is a detailed description of the sequential structure of the decision problems encountered by the players in a strategic situation.\n",
        "\n",
        "[(Osborne and Rubinstein 1994, 89)](https://arielrubinstein.org/gt/arielDocs/downloadme.asp?id=1)\n",
        "\n",
        "\n",
        "\n"
      ],
      "metadata": {
        "id": "aFo1j6BxGWpV"
      }
    },
    {
      "cell_type": "markdown",
      "source": [
        "### 4.2. How to define extensive form game? Find answers in “Multiagent Systems: Algorithmic, Game-Theoretic, and Logical Foundations” by Prof. Yoav Shoham and Kevin Leyton-Brown. ([Download](http://www.masfoundations.org/download.html))"
      ],
      "metadata": {
        "id": "wxAy3l2oDU65"
      }
    },
    {
      "cell_type": "markdown",
      "source": [
        "**Definition 4.2 (Extensive form game)**\n",
        "\n",
        "Extensive games are game trees, with information sets that model imperfect information of the players.\n",
        "\n",
        "[(Noam Nisan 2007, 53)](https://www.cs.cmu.edu/~sandholm/cs15-892F13/algorithmic-game-theory.pdf)"
      ],
      "metadata": {
        "id": "cQ4hei63GXWE"
      }
    },
    {
      "cell_type": "markdown",
      "source": [
        "## 5. Subgame Perfect Nash Equilibrium"
      ],
      "metadata": {
        "id": "pRHu_UxyDYiE"
      }
    },
    {
      "cell_type": "markdown",
      "source": [
        "### 5.1 How to define Subgame Perfect Nash Equilibrium (SPNE)? Find answers in “A Course in Game Theory by Prof. Ariel Rubinstein and M. Osborne. ([Download](https://arielrubinstein.tau.ac.il/books.html)) "
      ],
      "metadata": {
        "id": "sI19ThW2DcVL"
      }
    },
    {
      "cell_type": "markdown",
      "source": [
        "**Definition 5.1 (Subgame perfect nash equilibrium)**\n",
        "\n",
        "A **subgame perfect equilibrium** of an extensive game with perfect information $\\Gamma=\\left\\langle N, H, P,\\left(\\succsim_{i}\\right)\\right\\rangle$ is a strategy profile $s^{*}$ such that for every player $i \\in N$ and every nonterminal history $h \\in H \\backslash Z$ for which $P(h)=i$ we have\n",
        "$$\n",
        "\\left.O_{h}\\left(\\left.s_{-i}^{*}\\right|_{h},\\left.s_{i}^{*}\\right|_{h}\\right) \\succsim_{i}\\right|_{h} O_{h}\\left(\\left.s_{-i}^{*}\\right|_{h}, s_{i}\\right)\n",
        "$$\n",
        "for every strategy $s_{i}$ of player $i$ in the subgame $\\Gamma(h)$.\n",
        "Equivalently, we can define a subgame perfect equilibrium to be a strategy profile $s^{*}$ in $\\Gamma$ for which for any history $h$ the strategy profile $\\left.s^{*}\\right|_{h}$ is a Nash equilibrium of the subgame $\\Gamma(h)$.\n",
        "\n",
        "The notion of subgame perfect equilibrium eliminates Nash equilibria in which the players' threats are not credible. For example, in the game in Figure $96.2$ the only subgame perfect equilibrium is $(A, R)$ and in the game in Figure $91.1$ the only subgame perfect equilibria are $((2,0), y y y)$ and $((1,1), nyy )$.\n",
        "\n",
        "[(Osborne and Rubinstein 1994, 97)](https://arielrubinstein.org/gt/arielDocs/downloadme.asp?id=1)"
      ],
      "metadata": {
        "id": "PT6SijSRGYky"
      }
    },
    {
      "cell_type": "markdown",
      "source": [
        "### 5.2 How to define Subgame Perfect Nash Equilibrium (SPNE)? Find answers in “Multiagent Systems: Algorithmic, Game-Theoretic, and Logical Foundations” by Prof. Yoav Shoham and Kevin Leyton-Brown. ([Download](http://www.masfoundations.org/download.html))"
      ],
      "metadata": {
        "id": "cFsHiBtiDkvr"
      }
    },
    {
      "cell_type": "markdown",
      "source": [
        "**Definition 5.2** **(Subgame-perfect equilibrium)** \n",
        "\n",
        "The **subgame-perfect equilibria** $(SPE)$ of a game $G$ are all strategy profiles s such that for any subgame $G^{\\prime}$ of $G$, the restriction of $s$ to $G^{\\prime}$ is a Nash equilibrium of $G^{\\prime}$.\n",
        "\n",
        "[(Yoav Shoham and Leyton-Brown 2009, 123)](http://www.masfoundations.org/download.html)"
      ],
      "metadata": {
        "id": "FvrnyekaGZee"
      }
    },
    {
      "cell_type": "markdown",
      "source": [
        "## 6. Perfect Bayesian Equilibrium"
      ],
      "metadata": {
        "id": "bYEfdPtwDmxC"
      }
    },
    {
      "cell_type": "markdown",
      "source": [
        "### 6.1 How to define Perfect Bayesian Equilibrium (PBE)? Find answers in “A Course in Game Theory by Prof. Ariel Rubinstein and M. Osborne. ([Download](https://arielrubinstein.tau.ac.il/books.html)) "
      ],
      "metadata": {
        "id": "W01DTAr7Du2S"
      }
    },
    {
      "cell_type": "markdown",
      "source": [
        "**Definition 6.1 (Perfect Bayesian Equilibrium)**\n",
        "\n",
        "Let $\\left\\langle\\Gamma,\\left(\\Theta_{i}\\right),\\left(p_{i}\\right),\\left(u_{i}\\right)\\right\\rangle$ be a Bayesian extensive game with observable actions, where $\\Gamma=\\langle N, H, P\\rangle$. A pair $\\left(\\left(\\sigma_{i}\\right),\\left(\\mu_{i}\\right)\\right)=$ $\\left(\\left(\\sigma_{i}\\left(\\theta_{i}\\right)\\right)_{i \\in N, \\theta_{i} \\in \\Theta_{i}},\\left(\\mu_{i}(h)\\right)_{i \\in N, h \\in H \\backslash Z}\\right)$, where $\\sigma_{i}\\left(\\theta_{i}\\right)$ is a behavioral strategy of player $i$ in $\\Gamma$ and $\\mu_{i}(h)$ is a probability measure on $\\Theta_{i}$, is a **perfect Bayesian equilibrium** of the game if the following conditions are satisfied.\n",
        "\n",
        "- Sequential rationality: For every nonterminal history $h \\in H \\backslash Z$, every player $i \\in P(h)$, and every $\\theta_{i} \\in \\Theta_{i}$ the probability measure $O\\left(\\sigma_{-i}, \\sigma_{i}\\left(\\theta_{i}\\right), \\mu_{-i} \\mid h\\right)$ is at least good for type $\\theta_{i}$ as $O\\left(\\sigma_{-i}, s_{i}, \\mu_{-i} \\mid h\\right)$ for any strategy $s_{i}$ of player $i$ in $\\Gamma$.\n",
        "- Correct initial beliefs: $\\mu_{i}(\\varnothing)=p_{i}$ for each $i \\in N$.\n",
        "- Action-determined beliefs: If $i \\notin P(h)$ and $a \\in A(h)$ then $\\mu_{i}(h, a)=$ $\\mu_{i}(h)$; if $i \\in P(h), a \\in A(h), a^{\\prime} \\in A(h)$, and $a_{i}=a_{i}^{\\prime}$ then $\\mu_{i}(h, a)=$ $\\mu_{i}\\left(h, a^{\\prime}\\right)$.\n",
        "- Bayesian updating: If $i \\in P(h)$ and $a_{i}$ is in the support of $\\sigma_{i}\\left(\\theta_{i}\\right)(h)$ for some $\\theta_{i}$ in the support of $\\mu_{i}(h)$ then for any $\\theta_{i}^{\\prime} \\in \\Theta_{i}$ we have\n",
        "$$\n",
        "\\mu_{i}(h, a)\\left(\\theta_{i}^{\\prime}\\right)=\\frac{\\sigma_{i}\\left(\\theta_{i}^{\\prime}\\right)(h)\\left(a_{i}\\right) \\cdot \\mu_{i}(h)\\left(\\theta_{i}^{\\prime}\\right)}{\\sum_{\\theta_{i} \\in \\Theta_{i}} \\sigma_{i}\\left(\\theta_{i}\\right)(h)\\left(a_{i}\\right) \\cdot \\mu_{i}(h)\\left(\\theta_{i}\\right)} .\n",
        "$$\n",
        "\n",
        "<br> [(Osborne and Rubinstein 1994, 233)](https://arielrubinstein.org/gt/arielDocs/downloadme.asp?id=1)"
      ],
      "metadata": {
        "id": "pkcmFXkuGafr"
      }
    },
    {
      "cell_type": "markdown",
      "source": [
        "### 6.2 How to define Perfect Bayesian Equilibrium (PBE)? Find answers in “Multiagent Systems: Algorithmic, Game-Theoretic, and Logical Foundations” by Prof. Yoav Shoham and Kevin Leyton-Brown. ([Download](http://www.masfoundations.org/download.html))"
      ],
      "metadata": {
        "id": "LYqHHdnzD0FH"
      }
    },
    {
      "cell_type": "markdown",
      "source": [
        "**Definition (Trembling-hand perfect equilibrium)**\n",
        "\n",
        "A mixed-strategy profile\n",
        "trembling-hand $s$ is a (trembling-hand) **perfect equilibrium** of a normal-form game $G$ if there exists a sequence $s^{0},s^{1},...$ of fully mixed-strategy profiles such that $lim_{n→∞}s^{n}=s$, and such that for each $s^{k}$ in the sequence and each player $i$, the strategy $s_{i}$ is a best response to the strategies $s^{k}_{-i}$.\n",
        "\n",
        "[(Yoav Shoham and Leyton-Brown 2009, 85)](http://www.masfoundations.org/download.html)"
      ],
      "metadata": {
        "id": "VyiK3yGIGbY9"
      }
    },
    {
      "cell_type": "markdown",
      "source": [
        "# Part II: Computational Issues (1 points)"
      ],
      "metadata": {
        "id": "59TTvY9hL8Fp"
      }
    },
    {
      "cell_type": "markdown",
      "source": [
        "### Brieftly read Algorithmic Game Theory e-book Chapter 1 and 2. ([URL](https://drive.google.com/file/d/1qbWzkgKbej9KTRcOOK7a57LEU83lRpfY/view?usp=sharing)) Answer the following questions:\n"
      ],
      "metadata": {
        "id": "Uxx8hs5AMBSC"
      }
    },
    {
      "cell_type": "markdown",
      "source": [
        ""
      ],
      "metadata": {
        "id": "zGnFDAan8ClX"
      }
    },
    {
      "cell_type": "markdown",
      "source": [
        "### RQ1: What is the computational issues of the Nash Equilibrium?\n"
      ],
      "metadata": {
        "id": "T09X801NMa6Q"
      }
    },
    {
      "cell_type": "markdown",
      "source": [
        "As [Noam and Nisan (2007)](https://www.cs.cmu.edu/~sandholm/cs15-892F13/algorithmic-game-theory.pdf) pointed out, a shortcoming of this theory is that it is mostly a nonalgorithmic theory. Thus, the emergence of numerous new markets on the Internet and the availability of massive computational power for running these markets in a centralized or distributed manner has stimulated a need for a new, inherently algorithmic theory of market equilibria. Such algorithms can also help understand the repercussions to existing prices, production, and consumption caused by technological advances, introduction of new goods, or changes to the tax structure. Besides, given the increasing size of data under such situation, especialy for the size of the payoff matrices, the python solution, such as Nashpy approach, carries more computational complexity than nashpy itself. For different requirements under vairous considtions, we should pick corresponding algorithms. In Nashpy, if we want to find all equilibria, support enumeration asspears to be the best solution and yet is able to return results in realistic time for up to a 10 by 10 size game; if we want to find only one nash equilibria, then Lemke Howosn algorithm can return results reliably for larger games. If you want to look at learned behaviour and potential emergent equilibria then the learning algorithms can handle games of any size (subject to the memory of your machine of course). The precision would depend on whether or not the matrices are degenerate.\n",
        "\n",
        "**Reference:**\n",
        "\n",
        "Nisan, Noam, TimRou Roughgarden, Eva Tardos, and Vijay Vazirani. 2007. “Algorithmic Game Theory.” https://www.cs.cmu.edu/~sandholm/cs15-892F13/algorithmic-game-theory.pdf."
      ],
      "metadata": {
        "id": "un_JxQwpM3AW"
      }
    },
    {
      "cell_type": "markdown",
      "source": [
        "### RQ2: What is the complexity of finding Nash Equilibrium?"
      ],
      "metadata": {
        "id": "DH-hkNvEM2F9"
      }
    },
    {
      "cell_type": "markdown",
      "source": [
        "The computational complexity of equilibrium concepts plays a significant role in game theoretic course. The proof that finding a mixed Nash equilibrium is PPAD-complete, which shows the difficulty in finding a Nash quilibrium in some far-fetched, artificial games that happen to encode Brouwer functions, raises doubtes regarding the usefulness of the Nash equilibrium. The PPAD-completeness of Nash suggests that anyapproach to identifying the Nash equilibria that aspires to be efficient, as well as any proposal for using the concept in an applied setting, should expicitly take advantage of computationally beneficial special properties of the games in hand. On the other hand, PPAD-completeness proofs will be eventually refined to cover simpler and more realistic-looking classes of games. \n",
        "\n",
        "\n",
        "[(Noam Nisan 2007)](https://www.cs.cmu.edu/~sandholm/cs15-892F13/algorithmic-game-theory.pdf)\n",
        "\n",
        "**Reference:**\n",
        "\n",
        "Nisan, Noam, TimRou Roughgarden, Eva Tardos, and Vijay Vazirani. 2007. “Algorithmic Game Theory.” https://www.cs.cmu.edu/~sandholm/cs15-892F13/algorithmic-game-theory.pdf."
      ],
      "metadata": {
        "id": "XTuQhZZgNaK9"
      }
    },
    {
      "cell_type": "markdown",
      "source": [
        "# Part III: Case Studies (8 points)"
      ],
      "metadata": {
        "id": "xXyERa1rEY1t"
      }
    },
    {
      "cell_type": "markdown",
      "source": [
        "## 1.NashPy"
      ],
      "metadata": {
        "id": "IuwvJrpAEcDJ"
      }
    },
    {
      "cell_type": "markdown",
      "source": [
        "## 1.1. What types of games and solution concepts can NashPy deal with?"
      ],
      "metadata": {
        "id": "AfLajQ4oJE-2"
      }
    },
    {
      "cell_type": "markdown",
      "source": [
        "NashPy appears to be an effective tool for Game Theory Application in Python. Running NashPy, we can manage the basic process of a game calcultion, including creating a game, calculating the utility of a pair of strategies, computing Nash equilibria and indicating real practical results for learning. It has involved various approaches to solving the problems, namely vertex enumeration, Lemke Howson and suuport enumeration; and various immplemented learning algorithms, namely ficitions play, stochastic fictious play, Replicator dynamics, asymmetric replicator dynamics, Moran process, etc. \n",
        "\n",
        "Different types of games can be created in NashPy, including Normal Form Game such as Coordination Game, the zero sum game Maching Pennies, and Prinsons Dilemma; Extensive Form Games; Repeated Games; Degenerate Games, etc.\n",
        "\n",
        "**Reference:**\n",
        "\n",
        "Vincent Knight (2021). Nashpy: a python library for the computation of equilibria of 2 player strategic games, Version 0.0.28. https://github.com/drvinceknight/Nashpy.\n"
      ],
      "metadata": {
        "id": "rsDohKC1NbSb"
      }
    },
    {
      "cell_type": "markdown",
      "source": [
        "## 1.2. Apply NashPy to solve a solution concept on a specific game (your own choices) different from the case studies in the OER"
      ],
      "metadata": {
        "id": "VcFMSS8hJY0i"
      }
    },
    {
      "cell_type": "code",
      "source": [
        "### Install Nashpy\n",
        "!pip install nashpy"
      ],
      "metadata": {
        "id": "AOwskFQNNjbK",
        "colab": {
          "base_uri": "https://localhost:8080/"
        },
        "outputId": "f8299be3-86d3-410e-ace6-87e85982d01d"
      },
      "execution_count": null,
      "outputs": [
        {
          "output_type": "stream",
          "name": "stdout",
          "text": [
            "Collecting nashpy\n",
            "  Downloading nashpy-0.0.22.tar.gz (11 kB)\n",
            "\u001b[33mWARNING: Discarding https://files.pythonhosted.org/packages/93/1c/9005c6a0a3a3b183b5b216cc02cef14bb080fd3ee8733a1006fbcd81fffc/nashpy-0.0.22.tar.gz#sha256=9378fd492f01163ac01a7384dd94f7ffa3ce40e31fe2a08844a2e34576b3d8db (from https://pypi.org/simple/nashpy/). Command errored out with exit status 1: python setup.py egg_info Check the logs for full command output.\u001b[0m\n",
            "  Downloading nashpy-0.0.21.tar.gz (11 kB)\n",
            "Requirement already satisfied: numpy>=1.12.1 in /usr/local/lib/python3.7/dist-packages (from nashpy) (1.21.5)\n",
            "Requirement already satisfied: scipy>=0.19.0 in /usr/local/lib/python3.7/dist-packages (from nashpy) (1.4.1)\n",
            "Building wheels for collected packages: nashpy\n",
            "  Building wheel for nashpy (setup.py) ... \u001b[?25l\u001b[?25hdone\n",
            "  Created wheel for nashpy: filename=nashpy-0.0.21-py3-none-any.whl size=15280 sha256=30a4ce8ae074f8c511209fb579c82677c070a11e9262439dbd6bca366061f02c\n",
            "  Stored in directory: /root/.cache/pip/wheels/02/08/62/cf4fa931e0a317d180936b266169a57f4bb4eb801465bbe8a1\n",
            "Successfully built nashpy\n",
            "Installing collected packages: nashpy\n",
            "Successfully installed nashpy-0.0.21\n"
          ]
        }
      ]
    },
    {
      "cell_type": "code",
      "source": [
        "###Create a Normal Form Game- zero sum game Prisoners Dilemma\n",
        "import nashpy as nash\n",
        "import numpy as np\n",
        "A=np.array([[3,0],[5,1]])\n",
        "B=np.array([[3,5],[0,1]])\n",
        "prisoners_dilemma=nash.Game(A,B)\n",
        "prisoners_dilemma"
      ],
      "metadata": {
        "id": "ptyPVESAsl8j",
        "colab": {
          "base_uri": "https://localhost:8080/"
        },
        "outputId": "b2291d51-4e3d-4a7c-bc75-252516395bab"
      },
      "execution_count": null,
      "outputs": [
        {
          "output_type": "execute_result",
          "data": {
            "text/plain": [
              "Bi matrix game with payoff matrices:\n",
              "\n",
              "Row player:\n",
              "[[3 0]\n",
              " [5 1]]\n",
              "\n",
              "Column player:\n",
              "[[3 5]\n",
              " [0 1]]"
            ]
          },
          "metadata": {},
          "execution_count": 2
        }
      ]
    },
    {
      "cell_type": "code",
      "source": [
        "#Calculate utilities\n",
        "#The utility for both players when they both play their first action\n",
        "sigma_r=np.array([1,0])\n",
        "sigma_c=np.array([1,0])\n",
        "prisoners_dilemma[sigma_r,sigma_c]"
      ],
      "metadata": {
        "colab": {
          "base_uri": "https://localhost:8080/"
        },
        "id": "A0ogC7VOtJNu",
        "outputId": "51af25bd-80ee-4235-ec03-f48a85132ba8"
      },
      "execution_count": null,
      "outputs": [
        {
          "output_type": "execute_result",
          "data": {
            "text/plain": [
              "array([3, 3])"
            ]
          },
          "metadata": {},
          "execution_count": 3
        }
      ]
    },
    {
      "cell_type": "code",
      "source": [
        "#The utility to both players when they play uniformly randomly across both their actions:\n",
        "sigma_r1=np.array([1/2,1/2])\n",
        "sigma_c1=np.array([1/2,1/2])\n",
        "prisoners_dilemma[sigma_r1,sigma_c1]\n"
      ],
      "metadata": {
        "colab": {
          "base_uri": "https://localhost:8080/"
        },
        "id": "Qj1soOAxtPdo",
        "outputId": "3432858a-9bb2-4681-a31e-b70604297404"
      },
      "execution_count": null,
      "outputs": [
        {
          "output_type": "execute_result",
          "data": {
            "text/plain": [
              "array([2.25, 2.25])"
            ]
          },
          "metadata": {},
          "execution_count": 4
        }
      ]
    },
    {
      "cell_type": "code",
      "source": [
        "game=nash.Game(A,B)\n",
        "equilibria=game.vertex_enumeration()\n",
        "for eq in equilibria:\n",
        "  print(eq)"
      ],
      "metadata": {
        "colab": {
          "base_uri": "https://localhost:8080/"
        },
        "id": "7DXuFrv0vOeT",
        "outputId": "6674acf4-e67c-4743-9751-3ba3fe2a4f10"
      },
      "execution_count": null,
      "outputs": [
        {
          "output_type": "stream",
          "name": "stdout",
          "text": [
            "(array([-4.16333634e-17,  1.00000000e+00]), array([-4.16333634e-17,  1.00000000e+00]))\n"
          ]
        },
        {
          "output_type": "stream",
          "name": "stderr",
          "text": [
            "/usr/local/lib/python3.7/dist-packages/numpy/core/fromnumeric.py:86: VisibleDeprecationWarning: Creating an ndarray from ragged nested sequences (which is a list-or-tuple of lists-or-tuples-or ndarrays with different lengths or shapes) is deprecated. If you meant to do this, you must specify 'dtype=object' when creating the ndarray.\n",
            "  return ufunc.reduce(obj, axis, dtype, out, **passkwargs)\n"
          ]
        }
      ]
    },
    {
      "cell_type": "code",
      "source": [
        "#Solve the game with fictious play method\n",
        "np.random.seed(0)\n",
        "iterations=500\n",
        "play_counts=prisoners_dilemma.fictitious_play(iterations=iterations)\n",
        "for row_play_counts, column_play_counts in play_counts:\n",
        "  print(row_play_counts, column_play_counts)\n"
      ],
      "metadata": {
        "colab": {
          "base_uri": "https://localhost:8080/"
        },
        "id": "xxbd5q0wtbXL",
        "outputId": "c79f6a90-10ab-4c1c-c0d0-63ec3a89cfa0"
      },
      "execution_count": null,
      "outputs": [
        {
          "output_type": "stream",
          "name": "stdout",
          "text": [
            "[0 0] [0 0]\n",
            "[1. 0.] [0. 1.]\n",
            "[1. 1.] [0. 2.]\n",
            "[1. 2.] [0. 3.]\n",
            "[1. 3.] [0. 4.]\n",
            "[1. 4.] [0. 5.]\n",
            "[1. 5.] [0. 6.]\n",
            "[1. 6.] [0. 7.]\n",
            "[1. 7.] [0. 8.]\n",
            "[1. 8.] [0. 9.]\n",
            "[1. 9.] [ 0. 10.]\n",
            "[ 1. 10.] [ 0. 11.]\n",
            "[ 1. 11.] [ 0. 12.]\n",
            "[ 1. 12.] [ 0. 13.]\n",
            "[ 1. 13.] [ 0. 14.]\n",
            "[ 1. 14.] [ 0. 15.]\n",
            "[ 1. 15.] [ 0. 16.]\n",
            "[ 1. 16.] [ 0. 17.]\n",
            "[ 1. 17.] [ 0. 18.]\n",
            "[ 1. 18.] [ 0. 19.]\n",
            "[ 1. 19.] [ 0. 20.]\n",
            "[ 1. 20.] [ 0. 21.]\n",
            "[ 1. 21.] [ 0. 22.]\n",
            "[ 1. 22.] [ 0. 23.]\n",
            "[ 1. 23.] [ 0. 24.]\n",
            "[ 1. 24.] [ 0. 25.]\n",
            "[ 1. 25.] [ 0. 26.]\n",
            "[ 1. 26.] [ 0. 27.]\n",
            "[ 1. 27.] [ 0. 28.]\n",
            "[ 1. 28.] [ 0. 29.]\n",
            "[ 1. 29.] [ 0. 30.]\n",
            "[ 1. 30.] [ 0. 31.]\n",
            "[ 1. 31.] [ 0. 32.]\n",
            "[ 1. 32.] [ 0. 33.]\n",
            "[ 1. 33.] [ 0. 34.]\n",
            "[ 1. 34.] [ 0. 35.]\n",
            "[ 1. 35.] [ 0. 36.]\n",
            "[ 1. 36.] [ 0. 37.]\n",
            "[ 1. 37.] [ 0. 38.]\n",
            "[ 1. 38.] [ 0. 39.]\n",
            "[ 1. 39.] [ 0. 40.]\n",
            "[ 1. 40.] [ 0. 41.]\n",
            "[ 1. 41.] [ 0. 42.]\n",
            "[ 1. 42.] [ 0. 43.]\n",
            "[ 1. 43.] [ 0. 44.]\n",
            "[ 1. 44.] [ 0. 45.]\n",
            "[ 1. 45.] [ 0. 46.]\n",
            "[ 1. 46.] [ 0. 47.]\n",
            "[ 1. 47.] [ 0. 48.]\n",
            "[ 1. 48.] [ 0. 49.]\n",
            "[ 1. 49.] [ 0. 50.]\n",
            "[ 1. 50.] [ 0. 51.]\n",
            "[ 1. 51.] [ 0. 52.]\n",
            "[ 1. 52.] [ 0. 53.]\n",
            "[ 1. 53.] [ 0. 54.]\n",
            "[ 1. 54.] [ 0. 55.]\n",
            "[ 1. 55.] [ 0. 56.]\n",
            "[ 1. 56.] [ 0. 57.]\n",
            "[ 1. 57.] [ 0. 58.]\n",
            "[ 1. 58.] [ 0. 59.]\n",
            "[ 1. 59.] [ 0. 60.]\n",
            "[ 1. 60.] [ 0. 61.]\n",
            "[ 1. 61.] [ 0. 62.]\n",
            "[ 1. 62.] [ 0. 63.]\n",
            "[ 1. 63.] [ 0. 64.]\n",
            "[ 1. 64.] [ 0. 65.]\n",
            "[ 1. 65.] [ 0. 66.]\n",
            "[ 1. 66.] [ 0. 67.]\n",
            "[ 1. 67.] [ 0. 68.]\n",
            "[ 1. 68.] [ 0. 69.]\n",
            "[ 1. 69.] [ 0. 70.]\n",
            "[ 1. 70.] [ 0. 71.]\n",
            "[ 1. 71.] [ 0. 72.]\n",
            "[ 1. 72.] [ 0. 73.]\n",
            "[ 1. 73.] [ 0. 74.]\n",
            "[ 1. 74.] [ 0. 75.]\n",
            "[ 1. 75.] [ 0. 76.]\n",
            "[ 1. 76.] [ 0. 77.]\n",
            "[ 1. 77.] [ 0. 78.]\n",
            "[ 1. 78.] [ 0. 79.]\n",
            "[ 1. 79.] [ 0. 80.]\n",
            "[ 1. 80.] [ 0. 81.]\n",
            "[ 1. 81.] [ 0. 82.]\n",
            "[ 1. 82.] [ 0. 83.]\n",
            "[ 1. 83.] [ 0. 84.]\n",
            "[ 1. 84.] [ 0. 85.]\n",
            "[ 1. 85.] [ 0. 86.]\n",
            "[ 1. 86.] [ 0. 87.]\n",
            "[ 1. 87.] [ 0. 88.]\n",
            "[ 1. 88.] [ 0. 89.]\n",
            "[ 1. 89.] [ 0. 90.]\n",
            "[ 1. 90.] [ 0. 91.]\n",
            "[ 1. 91.] [ 0. 92.]\n",
            "[ 1. 92.] [ 0. 93.]\n",
            "[ 1. 93.] [ 0. 94.]\n",
            "[ 1. 94.] [ 0. 95.]\n",
            "[ 1. 95.] [ 0. 96.]\n",
            "[ 1. 96.] [ 0. 97.]\n",
            "[ 1. 97.] [ 0. 98.]\n",
            "[ 1. 98.] [ 0. 99.]\n",
            "[ 1. 99.] [  0. 100.]\n",
            "[  1. 100.] [  0. 101.]\n",
            "[  1. 101.] [  0. 102.]\n",
            "[  1. 102.] [  0. 103.]\n",
            "[  1. 103.] [  0. 104.]\n",
            "[  1. 104.] [  0. 105.]\n",
            "[  1. 105.] [  0. 106.]\n",
            "[  1. 106.] [  0. 107.]\n",
            "[  1. 107.] [  0. 108.]\n",
            "[  1. 108.] [  0. 109.]\n",
            "[  1. 109.] [  0. 110.]\n",
            "[  1. 110.] [  0. 111.]\n",
            "[  1. 111.] [  0. 112.]\n",
            "[  1. 112.] [  0. 113.]\n",
            "[  1. 113.] [  0. 114.]\n",
            "[  1. 114.] [  0. 115.]\n",
            "[  1. 115.] [  0. 116.]\n",
            "[  1. 116.] [  0. 117.]\n",
            "[  1. 117.] [  0. 118.]\n",
            "[  1. 118.] [  0. 119.]\n",
            "[  1. 119.] [  0. 120.]\n",
            "[  1. 120.] [  0. 121.]\n",
            "[  1. 121.] [  0. 122.]\n",
            "[  1. 122.] [  0. 123.]\n",
            "[  1. 123.] [  0. 124.]\n",
            "[  1. 124.] [  0. 125.]\n",
            "[  1. 125.] [  0. 126.]\n",
            "[  1. 126.] [  0. 127.]\n",
            "[  1. 127.] [  0. 128.]\n",
            "[  1. 128.] [  0. 129.]\n",
            "[  1. 129.] [  0. 130.]\n",
            "[  1. 130.] [  0. 131.]\n",
            "[  1. 131.] [  0. 132.]\n",
            "[  1. 132.] [  0. 133.]\n",
            "[  1. 133.] [  0. 134.]\n",
            "[  1. 134.] [  0. 135.]\n",
            "[  1. 135.] [  0. 136.]\n",
            "[  1. 136.] [  0. 137.]\n",
            "[  1. 137.] [  0. 138.]\n",
            "[  1. 138.] [  0. 139.]\n",
            "[  1. 139.] [  0. 140.]\n",
            "[  1. 140.] [  0. 141.]\n",
            "[  1. 141.] [  0. 142.]\n",
            "[  1. 142.] [  0. 143.]\n",
            "[  1. 143.] [  0. 144.]\n",
            "[  1. 144.] [  0. 145.]\n",
            "[  1. 145.] [  0. 146.]\n",
            "[  1. 146.] [  0. 147.]\n",
            "[  1. 147.] [  0. 148.]\n",
            "[  1. 148.] [  0. 149.]\n",
            "[  1. 149.] [  0. 150.]\n",
            "[  1. 150.] [  0. 151.]\n",
            "[  1. 151.] [  0. 152.]\n",
            "[  1. 152.] [  0. 153.]\n",
            "[  1. 153.] [  0. 154.]\n",
            "[  1. 154.] [  0. 155.]\n",
            "[  1. 155.] [  0. 156.]\n",
            "[  1. 156.] [  0. 157.]\n",
            "[  1. 157.] [  0. 158.]\n",
            "[  1. 158.] [  0. 159.]\n",
            "[  1. 159.] [  0. 160.]\n",
            "[  1. 160.] [  0. 161.]\n",
            "[  1. 161.] [  0. 162.]\n",
            "[  1. 162.] [  0. 163.]\n",
            "[  1. 163.] [  0. 164.]\n",
            "[  1. 164.] [  0. 165.]\n",
            "[  1. 165.] [  0. 166.]\n",
            "[  1. 166.] [  0. 167.]\n",
            "[  1. 167.] [  0. 168.]\n",
            "[  1. 168.] [  0. 169.]\n",
            "[  1. 169.] [  0. 170.]\n",
            "[  1. 170.] [  0. 171.]\n",
            "[  1. 171.] [  0. 172.]\n",
            "[  1. 172.] [  0. 173.]\n",
            "[  1. 173.] [  0. 174.]\n",
            "[  1. 174.] [  0. 175.]\n",
            "[  1. 175.] [  0. 176.]\n",
            "[  1. 176.] [  0. 177.]\n",
            "[  1. 177.] [  0. 178.]\n",
            "[  1. 178.] [  0. 179.]\n",
            "[  1. 179.] [  0. 180.]\n",
            "[  1. 180.] [  0. 181.]\n",
            "[  1. 181.] [  0. 182.]\n",
            "[  1. 182.] [  0. 183.]\n",
            "[  1. 183.] [  0. 184.]\n",
            "[  1. 184.] [  0. 185.]\n",
            "[  1. 185.] [  0. 186.]\n",
            "[  1. 186.] [  0. 187.]\n",
            "[  1. 187.] [  0. 188.]\n",
            "[  1. 188.] [  0. 189.]\n",
            "[  1. 189.] [  0. 190.]\n",
            "[  1. 190.] [  0. 191.]\n",
            "[  1. 191.] [  0. 192.]\n",
            "[  1. 192.] [  0. 193.]\n",
            "[  1. 193.] [  0. 194.]\n",
            "[  1. 194.] [  0. 195.]\n",
            "[  1. 195.] [  0. 196.]\n",
            "[  1. 196.] [  0. 197.]\n",
            "[  1. 197.] [  0. 198.]\n",
            "[  1. 198.] [  0. 199.]\n",
            "[  1. 199.] [  0. 200.]\n",
            "[  1. 200.] [  0. 201.]\n",
            "[  1. 201.] [  0. 202.]\n",
            "[  1. 202.] [  0. 203.]\n",
            "[  1. 203.] [  0. 204.]\n",
            "[  1. 204.] [  0. 205.]\n",
            "[  1. 205.] [  0. 206.]\n",
            "[  1. 206.] [  0. 207.]\n",
            "[  1. 207.] [  0. 208.]\n",
            "[  1. 208.] [  0. 209.]\n",
            "[  1. 209.] [  0. 210.]\n",
            "[  1. 210.] [  0. 211.]\n",
            "[  1. 211.] [  0. 212.]\n",
            "[  1. 212.] [  0. 213.]\n",
            "[  1. 213.] [  0. 214.]\n",
            "[  1. 214.] [  0. 215.]\n",
            "[  1. 215.] [  0. 216.]\n",
            "[  1. 216.] [  0. 217.]\n",
            "[  1. 217.] [  0. 218.]\n",
            "[  1. 218.] [  0. 219.]\n",
            "[  1. 219.] [  0. 220.]\n",
            "[  1. 220.] [  0. 221.]\n",
            "[  1. 221.] [  0. 222.]\n",
            "[  1. 222.] [  0. 223.]\n",
            "[  1. 223.] [  0. 224.]\n",
            "[  1. 224.] [  0. 225.]\n",
            "[  1. 225.] [  0. 226.]\n",
            "[  1. 226.] [  0. 227.]\n",
            "[  1. 227.] [  0. 228.]\n",
            "[  1. 228.] [  0. 229.]\n",
            "[  1. 229.] [  0. 230.]\n",
            "[  1. 230.] [  0. 231.]\n",
            "[  1. 231.] [  0. 232.]\n",
            "[  1. 232.] [  0. 233.]\n",
            "[  1. 233.] [  0. 234.]\n",
            "[  1. 234.] [  0. 235.]\n",
            "[  1. 235.] [  0. 236.]\n",
            "[  1. 236.] [  0. 237.]\n",
            "[  1. 237.] [  0. 238.]\n",
            "[  1. 238.] [  0. 239.]\n",
            "[  1. 239.] [  0. 240.]\n",
            "[  1. 240.] [  0. 241.]\n",
            "[  1. 241.] [  0. 242.]\n",
            "[  1. 242.] [  0. 243.]\n",
            "[  1. 243.] [  0. 244.]\n",
            "[  1. 244.] [  0. 245.]\n",
            "[  1. 245.] [  0. 246.]\n",
            "[  1. 246.] [  0. 247.]\n",
            "[  1. 247.] [  0. 248.]\n",
            "[  1. 248.] [  0. 249.]\n",
            "[  1. 249.] [  0. 250.]\n",
            "[  1. 250.] [  0. 251.]\n",
            "[  1. 251.] [  0. 252.]\n",
            "[  1. 252.] [  0. 253.]\n",
            "[  1. 253.] [  0. 254.]\n",
            "[  1. 254.] [  0. 255.]\n",
            "[  1. 255.] [  0. 256.]\n",
            "[  1. 256.] [  0. 257.]\n",
            "[  1. 257.] [  0. 258.]\n",
            "[  1. 258.] [  0. 259.]\n",
            "[  1. 259.] [  0. 260.]\n",
            "[  1. 260.] [  0. 261.]\n",
            "[  1. 261.] [  0. 262.]\n",
            "[  1. 262.] [  0. 263.]\n",
            "[  1. 263.] [  0. 264.]\n",
            "[  1. 264.] [  0. 265.]\n",
            "[  1. 265.] [  0. 266.]\n",
            "[  1. 266.] [  0. 267.]\n",
            "[  1. 267.] [  0. 268.]\n",
            "[  1. 268.] [  0. 269.]\n",
            "[  1. 269.] [  0. 270.]\n",
            "[  1. 270.] [  0. 271.]\n",
            "[  1. 271.] [  0. 272.]\n",
            "[  1. 272.] [  0. 273.]\n",
            "[  1. 273.] [  0. 274.]\n",
            "[  1. 274.] [  0. 275.]\n",
            "[  1. 275.] [  0. 276.]\n",
            "[  1. 276.] [  0. 277.]\n",
            "[  1. 277.] [  0. 278.]\n",
            "[  1. 278.] [  0. 279.]\n",
            "[  1. 279.] [  0. 280.]\n",
            "[  1. 280.] [  0. 281.]\n",
            "[  1. 281.] [  0. 282.]\n",
            "[  1. 282.] [  0. 283.]\n",
            "[  1. 283.] [  0. 284.]\n",
            "[  1. 284.] [  0. 285.]\n",
            "[  1. 285.] [  0. 286.]\n",
            "[  1. 286.] [  0. 287.]\n",
            "[  1. 287.] [  0. 288.]\n",
            "[  1. 288.] [  0. 289.]\n",
            "[  1. 289.] [  0. 290.]\n",
            "[  1. 290.] [  0. 291.]\n",
            "[  1. 291.] [  0. 292.]\n",
            "[  1. 292.] [  0. 293.]\n",
            "[  1. 293.] [  0. 294.]\n",
            "[  1. 294.] [  0. 295.]\n",
            "[  1. 295.] [  0. 296.]\n",
            "[  1. 296.] [  0. 297.]\n",
            "[  1. 297.] [  0. 298.]\n",
            "[  1. 298.] [  0. 299.]\n",
            "[  1. 299.] [  0. 300.]\n",
            "[  1. 300.] [  0. 301.]\n",
            "[  1. 301.] [  0. 302.]\n",
            "[  1. 302.] [  0. 303.]\n",
            "[  1. 303.] [  0. 304.]\n",
            "[  1. 304.] [  0. 305.]\n",
            "[  1. 305.] [  0. 306.]\n",
            "[  1. 306.] [  0. 307.]\n",
            "[  1. 307.] [  0. 308.]\n",
            "[  1. 308.] [  0. 309.]\n",
            "[  1. 309.] [  0. 310.]\n",
            "[  1. 310.] [  0. 311.]\n",
            "[  1. 311.] [  0. 312.]\n",
            "[  1. 312.] [  0. 313.]\n",
            "[  1. 313.] [  0. 314.]\n",
            "[  1. 314.] [  0. 315.]\n",
            "[  1. 315.] [  0. 316.]\n",
            "[  1. 316.] [  0. 317.]\n",
            "[  1. 317.] [  0. 318.]\n",
            "[  1. 318.] [  0. 319.]\n",
            "[  1. 319.] [  0. 320.]\n",
            "[  1. 320.] [  0. 321.]\n",
            "[  1. 321.] [  0. 322.]\n",
            "[  1. 322.] [  0. 323.]\n",
            "[  1. 323.] [  0. 324.]\n",
            "[  1. 324.] [  0. 325.]\n",
            "[  1. 325.] [  0. 326.]\n",
            "[  1. 326.] [  0. 327.]\n",
            "[  1. 327.] [  0. 328.]\n",
            "[  1. 328.] [  0. 329.]\n",
            "[  1. 329.] [  0. 330.]\n",
            "[  1. 330.] [  0. 331.]\n",
            "[  1. 331.] [  0. 332.]\n",
            "[  1. 332.] [  0. 333.]\n",
            "[  1. 333.] [  0. 334.]\n",
            "[  1. 334.] [  0. 335.]\n",
            "[  1. 335.] [  0. 336.]\n",
            "[  1. 336.] [  0. 337.]\n",
            "[  1. 337.] [  0. 338.]\n",
            "[  1. 338.] [  0. 339.]\n",
            "[  1. 339.] [  0. 340.]\n",
            "[  1. 340.] [  0. 341.]\n",
            "[  1. 341.] [  0. 342.]\n",
            "[  1. 342.] [  0. 343.]\n",
            "[  1. 343.] [  0. 344.]\n",
            "[  1. 344.] [  0. 345.]\n",
            "[  1. 345.] [  0. 346.]\n",
            "[  1. 346.] [  0. 347.]\n",
            "[  1. 347.] [  0. 348.]\n",
            "[  1. 348.] [  0. 349.]\n",
            "[  1. 349.] [  0. 350.]\n",
            "[  1. 350.] [  0. 351.]\n",
            "[  1. 351.] [  0. 352.]\n",
            "[  1. 352.] [  0. 353.]\n",
            "[  1. 353.] [  0. 354.]\n",
            "[  1. 354.] [  0. 355.]\n",
            "[  1. 355.] [  0. 356.]\n",
            "[  1. 356.] [  0. 357.]\n",
            "[  1. 357.] [  0. 358.]\n",
            "[  1. 358.] [  0. 359.]\n",
            "[  1. 359.] [  0. 360.]\n",
            "[  1. 360.] [  0. 361.]\n",
            "[  1. 361.] [  0. 362.]\n",
            "[  1. 362.] [  0. 363.]\n",
            "[  1. 363.] [  0. 364.]\n",
            "[  1. 364.] [  0. 365.]\n",
            "[  1. 365.] [  0. 366.]\n",
            "[  1. 366.] [  0. 367.]\n",
            "[  1. 367.] [  0. 368.]\n",
            "[  1. 368.] [  0. 369.]\n",
            "[  1. 369.] [  0. 370.]\n",
            "[  1. 370.] [  0. 371.]\n",
            "[  1. 371.] [  0. 372.]\n",
            "[  1. 372.] [  0. 373.]\n",
            "[  1. 373.] [  0. 374.]\n",
            "[  1. 374.] [  0. 375.]\n",
            "[  1. 375.] [  0. 376.]\n",
            "[  1. 376.] [  0. 377.]\n",
            "[  1. 377.] [  0. 378.]\n",
            "[  1. 378.] [  0. 379.]\n",
            "[  1. 379.] [  0. 380.]\n",
            "[  1. 380.] [  0. 381.]\n",
            "[  1. 381.] [  0. 382.]\n",
            "[  1. 382.] [  0. 383.]\n",
            "[  1. 383.] [  0. 384.]\n",
            "[  1. 384.] [  0. 385.]\n",
            "[  1. 385.] [  0. 386.]\n",
            "[  1. 386.] [  0. 387.]\n",
            "[  1. 387.] [  0. 388.]\n",
            "[  1. 388.] [  0. 389.]\n",
            "[  1. 389.] [  0. 390.]\n",
            "[  1. 390.] [  0. 391.]\n",
            "[  1. 391.] [  0. 392.]\n",
            "[  1. 392.] [  0. 393.]\n",
            "[  1. 393.] [  0. 394.]\n",
            "[  1. 394.] [  0. 395.]\n",
            "[  1. 395.] [  0. 396.]\n",
            "[  1. 396.] [  0. 397.]\n",
            "[  1. 397.] [  0. 398.]\n",
            "[  1. 398.] [  0. 399.]\n",
            "[  1. 399.] [  0. 400.]\n",
            "[  1. 400.] [  0. 401.]\n",
            "[  1. 401.] [  0. 402.]\n",
            "[  1. 402.] [  0. 403.]\n",
            "[  1. 403.] [  0. 404.]\n",
            "[  1. 404.] [  0. 405.]\n",
            "[  1. 405.] [  0. 406.]\n",
            "[  1. 406.] [  0. 407.]\n",
            "[  1. 407.] [  0. 408.]\n",
            "[  1. 408.] [  0. 409.]\n",
            "[  1. 409.] [  0. 410.]\n",
            "[  1. 410.] [  0. 411.]\n",
            "[  1. 411.] [  0. 412.]\n",
            "[  1. 412.] [  0. 413.]\n",
            "[  1. 413.] [  0. 414.]\n",
            "[  1. 414.] [  0. 415.]\n",
            "[  1. 415.] [  0. 416.]\n",
            "[  1. 416.] [  0. 417.]\n",
            "[  1. 417.] [  0. 418.]\n",
            "[  1. 418.] [  0. 419.]\n",
            "[  1. 419.] [  0. 420.]\n",
            "[  1. 420.] [  0. 421.]\n",
            "[  1. 421.] [  0. 422.]\n",
            "[  1. 422.] [  0. 423.]\n",
            "[  1. 423.] [  0. 424.]\n",
            "[  1. 424.] [  0. 425.]\n",
            "[  1. 425.] [  0. 426.]\n",
            "[  1. 426.] [  0. 427.]\n",
            "[  1. 427.] [  0. 428.]\n",
            "[  1. 428.] [  0. 429.]\n",
            "[  1. 429.] [  0. 430.]\n",
            "[  1. 430.] [  0. 431.]\n",
            "[  1. 431.] [  0. 432.]\n",
            "[  1. 432.] [  0. 433.]\n",
            "[  1. 433.] [  0. 434.]\n",
            "[  1. 434.] [  0. 435.]\n",
            "[  1. 435.] [  0. 436.]\n",
            "[  1. 436.] [  0. 437.]\n",
            "[  1. 437.] [  0. 438.]\n",
            "[  1. 438.] [  0. 439.]\n",
            "[  1. 439.] [  0. 440.]\n",
            "[  1. 440.] [  0. 441.]\n",
            "[  1. 441.] [  0. 442.]\n",
            "[  1. 442.] [  0. 443.]\n",
            "[  1. 443.] [  0. 444.]\n",
            "[  1. 444.] [  0. 445.]\n",
            "[  1. 445.] [  0. 446.]\n",
            "[  1. 446.] [  0. 447.]\n",
            "[  1. 447.] [  0. 448.]\n",
            "[  1. 448.] [  0. 449.]\n",
            "[  1. 449.] [  0. 450.]\n",
            "[  1. 450.] [  0. 451.]\n",
            "[  1. 451.] [  0. 452.]\n",
            "[  1. 452.] [  0. 453.]\n",
            "[  1. 453.] [  0. 454.]\n",
            "[  1. 454.] [  0. 455.]\n",
            "[  1. 455.] [  0. 456.]\n",
            "[  1. 456.] [  0. 457.]\n",
            "[  1. 457.] [  0. 458.]\n",
            "[  1. 458.] [  0. 459.]\n",
            "[  1. 459.] [  0. 460.]\n",
            "[  1. 460.] [  0. 461.]\n",
            "[  1. 461.] [  0. 462.]\n",
            "[  1. 462.] [  0. 463.]\n",
            "[  1. 463.] [  0. 464.]\n",
            "[  1. 464.] [  0. 465.]\n",
            "[  1. 465.] [  0. 466.]\n",
            "[  1. 466.] [  0. 467.]\n",
            "[  1. 467.] [  0. 468.]\n",
            "[  1. 468.] [  0. 469.]\n",
            "[  1. 469.] [  0. 470.]\n",
            "[  1. 470.] [  0. 471.]\n",
            "[  1. 471.] [  0. 472.]\n",
            "[  1. 472.] [  0. 473.]\n",
            "[  1. 473.] [  0. 474.]\n",
            "[  1. 474.] [  0. 475.]\n",
            "[  1. 475.] [  0. 476.]\n",
            "[  1. 476.] [  0. 477.]\n",
            "[  1. 477.] [  0. 478.]\n",
            "[  1. 478.] [  0. 479.]\n",
            "[  1. 479.] [  0. 480.]\n",
            "[  1. 480.] [  0. 481.]\n",
            "[  1. 481.] [  0. 482.]\n",
            "[  1. 482.] [  0. 483.]\n",
            "[  1. 483.] [  0. 484.]\n",
            "[  1. 484.] [  0. 485.]\n",
            "[  1. 485.] [  0. 486.]\n",
            "[  1. 486.] [  0. 487.]\n",
            "[  1. 487.] [  0. 488.]\n",
            "[  1. 488.] [  0. 489.]\n",
            "[  1. 489.] [  0. 490.]\n",
            "[  1. 490.] [  0. 491.]\n",
            "[  1. 491.] [  0. 492.]\n",
            "[  1. 492.] [  0. 493.]\n",
            "[  1. 493.] [  0. 494.]\n",
            "[  1. 494.] [  0. 495.]\n",
            "[  1. 495.] [  0. 496.]\n",
            "[  1. 496.] [  0. 497.]\n",
            "[  1. 497.] [  0. 498.]\n",
            "[  1. 498.] [  0. 499.]\n",
            "[  1. 499.] [  0. 500.]\n"
          ]
        }
      ]
    },
    {
      "cell_type": "markdown",
      "source": [
        "The NashPy trial adopted two algorithms, namely vertex enumeration to generate the answer directly and the fictitious play to show the learning process. We can obtain that the best strategy is to coorperate for $A$  and to defect for $B$, which ends up with the utility $[3,3]$ as the outcome of the game. Additionally, the utility to both players when they play uniformly randomly across both their actions, that will result in $[2.25,2.25]$ as the result. "
      ],
      "metadata": {
        "id": "V-I5dIDFNi96"
      }
    },
    {
      "cell_type": "markdown",
      "source": [
        "# 2. QuantEcon"
      ],
      "metadata": {
        "id": "ghdeU3TBEen4"
      }
    },
    {
      "cell_type": "markdown",
      "source": [
        "## 2.1. What types of games and soution concepts can QuantEcon deal with?"
      ],
      "metadata": {
        "id": "LVUTcelYJhlE"
      }
    },
    {
      "cell_type": "markdown",
      "source": [
        "The quantecon pthon library consists of a number of modules, including game theory (game_theory). It provides environment for normal form game and repeated game with different approaches to solve and evaluate, including Lemke-Howson algorithm to compute mixed Nash equilibria of a 2-player normal form game, and McLennan & Tourky algorithm to compute mixed Nash equilibria of an N-player normal form game. Besides, it has involved the methods for computing pure Nash equilibria. Italso provides different approaches to computing mixed Nash quilibria of a 2-player normal form game by support enumeration, namely support enumeration and vertex enumertaion. Additionally, the module, bimatrix_generators, contains functions that generate NormalFormGame instances of 2-player games sudied by Fearnley, lgwe, and Savani (2015).\n",
        "\n",
        "**References:**\n",
        "\n",
        "Thomas J. Sargent and John Stachurski (2021), Quantitative Economics (Python), Version 0.5.1. https://quantecon.org/quantecon-py/.\n",
        "\n",
        "QuantEcon Developer Team. 2019. “QuantEcon Documentation Release (0.4.3).” https://quanteconpy.readthedocs.io/_/downloads/en/fix-docs-build/pdf/."
      ],
      "metadata": {
        "id": "oPWdflnKNij1"
      }
    },
    {
      "cell_type": "markdown",
      "source": [
        "## 2.2. Apply NashPy to solve a solution concept on a specific game (your own choices) different from the case studies in the OER"
      ],
      "metadata": {
        "id": "YZtbPe0DKKOU"
      }
    },
    {
      "cell_type": "code",
      "source": [
        "#intall Quantecon\n",
        "!pip install quantecon\n",
        "import quantecon.game_theory as gt"
      ],
      "metadata": {
        "id": "xpFLOBEAx8Jw",
        "outputId": "07be2f52-ed72-41ef-9441-2413b76ee2da",
        "colab": {
          "base_uri": "https://localhost:8080/"
        }
      },
      "execution_count": null,
      "outputs": [
        {
          "output_type": "stream",
          "name": "stdout",
          "text": [
            "Collecting quantecon\n",
            "  Downloading quantecon-0.5.3-py3-none-any.whl (179 kB)\n",
            "\u001b[?25l\r\u001b[K     |█▉                              | 10 kB 19.5 MB/s eta 0:00:01\r\u001b[K     |███▋                            | 20 kB 21.4 MB/s eta 0:00:01\r\u001b[K     |█████▌                          | 30 kB 23.9 MB/s eta 0:00:01\r\u001b[K     |███████▎                        | 40 kB 19.2 MB/s eta 0:00:01\r\u001b[K     |█████████▏                      | 51 kB 16.1 MB/s eta 0:00:01\r\u001b[K     |███████████                     | 61 kB 18.1 MB/s eta 0:00:01\r\u001b[K     |████████████▊                   | 71 kB 15.8 MB/s eta 0:00:01\r\u001b[K     |██████████████▋                 | 81 kB 16.9 MB/s eta 0:00:01\r\u001b[K     |████████████████▍               | 92 kB 18.2 MB/s eta 0:00:01\r\u001b[K     |██████████████████▎             | 102 kB 18.8 MB/s eta 0:00:01\r\u001b[K     |████████████████████            | 112 kB 18.8 MB/s eta 0:00:01\r\u001b[K     |██████████████████████          | 122 kB 18.8 MB/s eta 0:00:01\r\u001b[K     |███████████████████████▊        | 133 kB 18.8 MB/s eta 0:00:01\r\u001b[K     |█████████████████████████▌      | 143 kB 18.8 MB/s eta 0:00:01\r\u001b[K     |███████████████████████████▍    | 153 kB 18.8 MB/s eta 0:00:01\r\u001b[K     |█████████████████████████████▏  | 163 kB 18.8 MB/s eta 0:00:01\r\u001b[K     |███████████████████████████████ | 174 kB 18.8 MB/s eta 0:00:01\r\u001b[K     |████████████████████████████████| 179 kB 18.8 MB/s \n",
            "\u001b[?25hRequirement already satisfied: numba in /usr/local/lib/python3.7/dist-packages (from quantecon) (0.51.2)\n",
            "Requirement already satisfied: scipy>=1.0.0 in /usr/local/lib/python3.7/dist-packages (from quantecon) (1.4.1)\n",
            "Requirement already satisfied: requests in /usr/local/lib/python3.7/dist-packages (from quantecon) (2.23.0)\n",
            "Requirement already satisfied: numpy in /usr/local/lib/python3.7/dist-packages (from quantecon) (1.21.5)\n",
            "Requirement already satisfied: sympy in /usr/local/lib/python3.7/dist-packages (from quantecon) (1.7.1)\n",
            "Requirement already satisfied: llvmlite<0.35,>=0.34.0.dev0 in /usr/local/lib/python3.7/dist-packages (from numba->quantecon) (0.34.0)\n",
            "Requirement already satisfied: setuptools in /usr/local/lib/python3.7/dist-packages (from numba->quantecon) (57.4.0)\n",
            "Requirement already satisfied: certifi>=2017.4.17 in /usr/local/lib/python3.7/dist-packages (from requests->quantecon) (2021.10.8)\n",
            "Requirement already satisfied: urllib3!=1.25.0,!=1.25.1,<1.26,>=1.21.1 in /usr/local/lib/python3.7/dist-packages (from requests->quantecon) (1.24.3)\n",
            "Requirement already satisfied: idna<3,>=2.5 in /usr/local/lib/python3.7/dist-packages (from requests->quantecon) (2.10)\n",
            "Requirement already satisfied: chardet<4,>=3.0.2 in /usr/local/lib/python3.7/dist-packages (from requests->quantecon) (3.0.4)\n",
            "Requirement already satisfied: mpmath>=0.19 in /usr/local/lib/python3.7/dist-packages (from sympy->quantecon) (1.2.1)\n",
            "Installing collected packages: quantecon\n",
            "Successfully installed quantecon-0.5.3\n"
          ]
        },
        {
          "output_type": "stream",
          "name": "stderr",
          "text": [
            "/usr/local/lib/python3.7/dist-packages/numba/np/ufunc/parallel.py:363: NumbaWarning: The TBB threading layer requires TBB version 2019.5 or later i.e., TBB_INTERFACE_VERSION >= 11005. Found TBB_INTERFACE_VERSION = 9107. The TBB threading layer is disabled.\n",
            "  warnings.warn(problem)\n"
          ]
        }
      ]
    },
    {
      "cell_type": "code",
      "source": [
        "from quantecon.game_theory.normal_form_game import NormalFormGame\n",
        "PD_bimatrix=[[(1,1),(-2,3),(3,-2),(0,0)]]\n",
        "g_PD=NormalFormGame(PD_bimatrix)\n",
        "gt.pure_nash.pure_nash_brute(g_PD)"
      ],
      "metadata": {
        "colab": {
          "base_uri": "https://localhost:8080/"
        },
        "id": "yGS8s_lvxn7w",
        "outputId": "3eb410c8-17c9-437f-a047-bd3e40c6baa9"
      },
      "execution_count": null,
      "outputs": [
        {
          "output_type": "execute_result",
          "data": {
            "text/plain": [
              "[(0, 1)]"
            ]
          },
          "metadata": {},
          "execution_count": 22
        }
      ]
    },
    {
      "cell_type": "markdown",
      "source": [
        "I changed the payoff matrix for players in Prisoners' Dilemma game and the result, namely the pure equilibrium generated by QuantEcon stayed the same. 0 means \"coorporate\" for player 1 and 1 means \"defect\" for player 2, thus they will reach the equilibrium $[1,1]$."
      ],
      "metadata": {
        "id": "mw7vlRGg3KZO"
      }
    },
    {
      "cell_type": "markdown",
      "source": [
        "# 3. Game Theory Explorer"
      ],
      "metadata": {
        "id": "loipec6iEg5Q"
      }
    },
    {
      "cell_type": "markdown",
      "source": [
        "## 3.1. What types of games and soution concepts can Game Theory Explorer deal with?"
      ],
      "metadata": {
        "id": "bXEf3SZLJqcr"
      }
    },
    {
      "cell_type": "markdown",
      "source": [
        "Game Theory Explorer (GTE) provides access to the software and the user interface. It is started in a [web browser](http://www.gametheoryexplorer.org) and offers all inetraction via the browser interface. The Game Theory Explorer software allows to create games in extensive or strategic form, and to compute their Nash equilibria, as it is primariy tailored for the applied game theorist who is not an expert in equilibrium computation. The analysis of a game with general mathematical parameters is also aided by knowing its equilibria for specific numerical values of those parameters. \n",
        "\n",
        "**Reference:**\n",
        "\n",
        "Rahul Savani and Bernhard von Stengel (2015), Game Theory Explorer – Software for the Applied Game Theorist. Computational Management Science 12, 5-33."
      ],
      "metadata": {
        "id": "J0WtIRjLNnBL"
      }
    },
    {
      "cell_type": "markdown",
      "source": [
        "## 3.2. Apply NashPy to solve a solution concept on a specific game (your own choices) different from the case studies in the OER"
      ],
      "metadata": {
        "id": "qnMNNzIFKL4k"
      }
    },
    {
      "cell_type": "markdown",
      "source": [
        "![Untitled.png](data:image/png;base64,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)\n",
        "\n",
        "![Untitled1.png](data:image/png;base64,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)\n",
        "\n",
        "![untitled3.png](data:image/png;base64,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)"
      ],
      "metadata": {
        "id": "vX8Ws5CR7zfw"
      }
    },
    {
      "cell_type": "markdown",
      "source": [
        "Here on software I input a $2*4$ strategy matrix and the results generated by Game Theory Epxlorer is 4 extreme equilibriums, resulting in two payoff matrices, namely  $[4,4],[5,2]$. "
      ],
      "metadata": {
        "id": "PuLyUgnZ4OIS"
      }
    },
    {
      "cell_type": "markdown",
      "source": [
        "# 4. Gambit"
      ],
      "metadata": {
        "id": "b1dIMT8lEj36"
      }
    },
    {
      "cell_type": "markdown",
      "source": [
        "## 4.1. What types of games and soution concepts can Gambit deal with?"
      ],
      "metadata": {
        "id": "Gdj5a0aTJzHt"
      }
    },
    {
      "cell_type": "markdown",
      "source": [
        "Gambit is a library of game theory software and tools for the construction and analysis of finite extensice and strategic games. It is fully-across platfrom, and is supported on Linux, Mac OS X, and Microsoft Windows. In terms of functions, it provides a flexible set of operations for constructing and editing general extensive games and has full support for constructing and manipulating arbitrary N-player strategic games and computing Nash equilibria in both extensive and strategic games.\n",
        "\n",
        "**Reference:**\n",
        "\n",
        "McKelvey, Richard D., McLennan, Andrew M., and Turocy, Theodore L. (2014). Gambit: Software Tools for Game Theory, Version 16.0.1. http://www.gambit-project.org."
      ],
      "metadata": {
        "id": "Aw9e0NI3NoMx"
      }
    },
    {
      "cell_type": "markdown",
      "source": [
        "## 4.2. Apply NashPy to solve a solution concept on a specific game (your own choices) different from the case studies in the OER"
      ],
      "metadata": {
        "id": "YeS85R93KOMt"
      }
    },
    {
      "cell_type": "code",
      "source": [
        "pip install pygambit"
      ],
      "metadata": {
        "id": "oCpMQxBZVonk",
        "outputId": "a3946303-e8d8-4f77-f24c-66a564bd4027",
        "colab": {
          "base_uri": "https://localhost:8080/"
        }
      },
      "execution_count": null,
      "outputs": [
        {
          "output_type": "stream",
          "name": "stdout",
          "text": [
            "Collecting pygambit\n",
            "  Downloading pygambit-16.0.2.tar.gz (631 kB)\n",
            "\u001b[?25l\r\u001b[K     |▌                               | 10 kB 21.5 MB/s eta 0:00:01\r\u001b[K     |█                               | 20 kB 13.1 MB/s eta 0:00:01\r\u001b[K     |█▋                              | 30 kB 9.4 MB/s eta 0:00:01\r\u001b[K     |██                              | 40 kB 8.4 MB/s eta 0:00:01\r\u001b[K     |██▋                             | 51 kB 6.1 MB/s eta 0:00:01\r\u001b[K     |███▏                            | 61 kB 7.1 MB/s eta 0:00:01\r\u001b[K     |███▋                            | 71 kB 6.8 MB/s eta 0:00:01\r\u001b[K     |████▏                           | 81 kB 6.4 MB/s eta 0:00:01\r\u001b[K     |████▊                           | 92 kB 7.0 MB/s eta 0:00:01\r\u001b[K     |█████▏                          | 102 kB 6.6 MB/s eta 0:00:01\r\u001b[K     |█████▊                          | 112 kB 6.6 MB/s eta 0:00:01\r\u001b[K     |██████▎                         | 122 kB 6.6 MB/s eta 0:00:01\r\u001b[K     |██████▊                         | 133 kB 6.6 MB/s eta 0:00:01\r\u001b[K     |███████▎                        | 143 kB 6.6 MB/s eta 0:00:01\r\u001b[K     |███████▉                        | 153 kB 6.6 MB/s eta 0:00:01\r\u001b[K     |████████▎                       | 163 kB 6.6 MB/s eta 0:00:01\r\u001b[K     |████████▉                       | 174 kB 6.6 MB/s eta 0:00:01\r\u001b[K     |█████████▍                      | 184 kB 6.6 MB/s eta 0:00:01\r\u001b[K     |█████████▉                      | 194 kB 6.6 MB/s eta 0:00:01\r\u001b[K     |██████████▍                     | 204 kB 6.6 MB/s eta 0:00:01\r\u001b[K     |███████████                     | 215 kB 6.6 MB/s eta 0:00:01\r\u001b[K     |███████████▍                    | 225 kB 6.6 MB/s eta 0:00:01\r\u001b[K     |████████████                    | 235 kB 6.6 MB/s eta 0:00:01\r\u001b[K     |████████████▌                   | 245 kB 6.6 MB/s eta 0:00:01\r\u001b[K     |█████████████                   | 256 kB 6.6 MB/s eta 0:00:01\r\u001b[K     |█████████████▌                  | 266 kB 6.6 MB/s eta 0:00:01\r\u001b[K     |██████████████                  | 276 kB 6.6 MB/s eta 0:00:01\r\u001b[K     |██████████████▌                 | 286 kB 6.6 MB/s eta 0:00:01\r\u001b[K     |███████████████                 | 296 kB 6.6 MB/s eta 0:00:01\r\u001b[K     |███████████████▋                | 307 kB 6.6 MB/s eta 0:00:01\r\u001b[K     |████████████████                | 317 kB 6.6 MB/s eta 0:00:01\r\u001b[K     |████████████████▋               | 327 kB 6.6 MB/s eta 0:00:01\r\u001b[K     |█████████████████▏              | 337 kB 6.6 MB/s eta 0:00:01\r\u001b[K     |█████████████████▋              | 348 kB 6.6 MB/s eta 0:00:01\r\u001b[K     |██████████████████▏             | 358 kB 6.6 MB/s eta 0:00:01\r\u001b[K     |██████████████████▊             | 368 kB 6.6 MB/s eta 0:00:01\r\u001b[K     |███████████████████▏            | 378 kB 6.6 MB/s eta 0:00:01\r\u001b[K     |███████████████████▊            | 389 kB 6.6 MB/s eta 0:00:01\r\u001b[K     |████████████████████▎           | 399 kB 6.6 MB/s eta 0:00:01\r\u001b[K     |████████████████████▊           | 409 kB 6.6 MB/s eta 0:00:01\r\u001b[K     |█████████████████████▎          | 419 kB 6.6 MB/s eta 0:00:01\r\u001b[K     |█████████████████████▉          | 430 kB 6.6 MB/s eta 0:00:01\r\u001b[K     |██████████████████████▎         | 440 kB 6.6 MB/s eta 0:00:01\r\u001b[K     |██████████████████████▉         | 450 kB 6.6 MB/s eta 0:00:01\r\u001b[K     |███████████████████████▍        | 460 kB 6.6 MB/s eta 0:00:01\r\u001b[K     |███████████████████████▉        | 471 kB 6.6 MB/s eta 0:00:01\r\u001b[K     |████████████████████████▍       | 481 kB 6.6 MB/s eta 0:00:01\r\u001b[K     |█████████████████████████       | 491 kB 6.6 MB/s eta 0:00:01\r\u001b[K     |█████████████████████████▍      | 501 kB 6.6 MB/s eta 0:00:01\r\u001b[K     |██████████████████████████      | 512 kB 6.6 MB/s eta 0:00:01\r\u001b[K     |██████████████████████████▌     | 522 kB 6.6 MB/s eta 0:00:01\r\u001b[K     |███████████████████████████     | 532 kB 6.6 MB/s eta 0:00:01\r\u001b[K     |███████████████████████████▌    | 542 kB 6.6 MB/s eta 0:00:01\r\u001b[K     |████████████████████████████    | 552 kB 6.6 MB/s eta 0:00:01\r\u001b[K     |████████████████████████████▌   | 563 kB 6.6 MB/s eta 0:00:01\r\u001b[K     |█████████████████████████████   | 573 kB 6.6 MB/s eta 0:00:01\r\u001b[K     |█████████████████████████████▋  | 583 kB 6.6 MB/s eta 0:00:01\r\u001b[K     |██████████████████████████████  | 593 kB 6.6 MB/s eta 0:00:01\r\u001b[K     |██████████████████████████████▋ | 604 kB 6.6 MB/s eta 0:00:01\r\u001b[K     |███████████████████████████████▏| 614 kB 6.6 MB/s eta 0:00:01\r\u001b[K     |███████████████████████████████▋| 624 kB 6.6 MB/s eta 0:00:01\r\u001b[K     |████████████████████████████████| 631 kB 6.6 MB/s \n",
            "\u001b[?25h  Installing build dependencies ... \u001b[?25l\u001b[?25hdone\n",
            "  Getting requirements to build wheel ... \u001b[?25l\u001b[?25hdone\n",
            "    Preparing wheel metadata ... \u001b[?25l\u001b[?25hdone\n",
            "Requirement already satisfied: numpy in /usr/local/lib/python3.7/dist-packages (from pygambit) (1.21.5)\n",
            "Requirement already satisfied: scipy in /usr/local/lib/python3.7/dist-packages (from pygambit) (1.4.1)\n",
            "Requirement already satisfied: lxml in /usr/local/lib/python3.7/dist-packages (from pygambit) (4.2.6)\n",
            "Building wheels for collected packages: pygambit\n",
            "  Building wheel for pygambit (PEP 517) ... \u001b[?25l\u001b[?25hdone\n",
            "  Created wheel for pygambit: filename=pygambit-16.0.2-cp37-cp37m-linux_x86_64.whl size=7926351 sha256=f6bee0b5093b60fb5b225c8fa6edc3cca23aa0c2f62716c9a7697a720384d91d\n",
            "  Stored in directory: /root/.cache/pip/wheels/ee/d3/f6/ecede51bdaac1de47f81c06eb7fe9da5552540d2393ef5b14f\n",
            "Successfully built pygambit\n",
            "Installing collected packages: pygambit\n",
            "Successfully installed pygambit-16.0.2\n"
          ]
        }
      ]
    },
    {
      "cell_type": "code",
      "source": [
        "#The function Game.new_tree() creates a new, trivial extensive game, with no players, and only a root node:\n",
        "import pygambit\n",
        "g=pygambit.Game.new_tree()\n",
        "len(g.players)\n",
        "\n",
        "#The title attribute provides access to a game’s title:\n",
        "g.title=\"A simple poker example\"\n",
        "\n",
        "#Adding a player to the game:\n",
        "p=g.players.add(\"Natalie\")\n",
        "p\n"
      ],
      "metadata": {
        "id": "vB-ATp6QWcQz",
        "outputId": "c086fab3-0df2-44b8-ec2d-2884d9fa6a4a",
        "colab": {
          "base_uri": "https://localhost:8080/"
        }
      },
      "execution_count": null,
      "outputs": [
        {
          "output_type": "execute_result",
          "data": {
            "text/plain": [
              "<Player [0] 'Natalie' in game 'A simple poker example'>"
            ]
          },
          "metadata": {},
          "execution_count": 4
        }
      ]
    },
    {
      "cell_type": "code",
      "source": [
        "#Building a strategic game\n",
        "#Creating a table which takes a list of integers specifying the number of strategies for each player\n",
        "g = pygambit.Game.new_table([2,2])\n",
        "g.title = \"A prisoner's dilemma game\"\n",
        "g.players[0].label = \"Natalie\"\n",
        "g.players[1].label = \"Mia\"\n",
        "g\n",
        "\n",
        "#The strategies collection for a player lists all the strategies available for that player:\n",
        "g.players[0].strategies\n",
        "len(g.players[0].strategies)\n",
        "g.players[0].strategies[0].label = \"Cooperate\"\n",
        "g.players[0].strategies[1].label = \"Defect\"\n",
        "g.players[0].strategies"
      ],
      "metadata": {
        "id": "e3kfEglGXahJ",
        "outputId": "336ed674-c786-4f17-9d68-a7c415803c87",
        "colab": {
          "base_uri": "https://localhost:8080/"
        }
      },
      "execution_count": null,
      "outputs": [
        {
          "output_type": "execute_result",
          "data": {
            "text/plain": [
              "[<Strategy [0] 'Cooperate' for player 'Natalie' in game 'A prisoner's dilemma game'>, <Strategy [1] 'Defect' for player 'Natalie' in game 'A prisoner's dilemma game'>]"
            ]
          },
          "metadata": {},
          "execution_count": 6
        }
      ]
    },
    {
      "cell_type": "markdown",
      "source": [
        "Here I installed pyGambit in python and calculated it using code instead of software for convenience. I created a single-player game at first then went back to prisoners' dilemma game. The result has shown clearly, player \"Natalie\" had the result as strategy $[0]$ to coorporate and player \"Mia\" had the strategy $[1]$ to defect."
      ],
      "metadata": {
        "id": "-hGCUtTg6Cxa"
      }
    },
    {
      "cell_type": "markdown",
      "source": [
        "# 5. Mesa [optional]"
      ],
      "metadata": {
        "id": "KaKVeBJSEmii"
      }
    },
    {
      "cell_type": "markdown",
      "source": [
        ""
      ],
      "metadata": {
        "id": "TnVU-2Mj6qO_"
      }
    },
    {
      "cell_type": "markdown",
      "source": [
        "## 5.1. What types of games and soution concepts can Mesa deal with?"
      ],
      "metadata": {
        "id": "OHrhd28BKRUt"
      }
    },
    {
      "cell_type": "markdown",
      "source": [
        "*Type your answers here. Plese provide in-text citations with hyperlink to the software documentations (required citations)*"
      ],
      "metadata": {
        "id": "C0TB1YdRNpiD"
      }
    },
    {
      "cell_type": "markdown",
      "source": [
        "## 5.2. Apply Mesa to solve a solution concept on a specific game (your own choices) different from the case studies in the OER"
      ],
      "metadata": {
        "id": "EHOmn9MzKXxm"
      }
    },
    {
      "cell_type": "markdown",
      "source": [
        "# References"
      ],
      "metadata": {
        "id": "UYtNIY9LIp1C"
      }
    },
    {
      "cell_type": "markdown",
      "source": [
        "J. Fearnley, T. P. Igwe, and R. Savani (2015). “An Empirical Study of Finding Approximate Equilibria in Bimatrix Games,” *International Symposium on Experimental Algorithms (SEA)*.\n",
        "\n",
        "Vincent Knight (2021). Nashpy: a python library for the computation of equilibria of 2 player strategic games, Version 0.0.28. https://github.com/drvinceknight/Nashpy\n",
        "\n",
        "McKelvey, Richard D., McLennan, Andrew M., and Turocy, Theodore L. (2014). Gambit: Software Tools for Game Theory, Version 16.0.1. http://www.gambit-project.org.\n",
        "\n",
        "Osborne, Martin J, and Ariel Rubinstein. (1994). A Course in Game Theory. Cambridge, Mass.: Mit Press.\n",
        "\n",
        "QuantEcon Developer Team. (2019). “QuantEcon Documentation Release (0.4.3).” https://quanteconpy.readthedocs.io/_/downloads/en/fix-docs-build/pdf/.\n",
        "\n",
        "Rahul Savani and Bernhard von Stengel (2015). Game Theory Explorer – Software for the Applied Game Theorist. Computational Management Science 12, 5-33.\n",
        "\n",
        "Shoham, Yoav, and Kevin Leyton-Brown. (2008). Multiagent Systems Algorithmic, Game-Theoretic, and Logical Foundations. Cambridge University Press.\n",
        "\n",
        "Thomas J. Sargent and John Stachurski (2021). Quantitative Economics (Python), Version 0.5.1. https://quantecon.org/quantecon-py/"
      ],
      "metadata": {
        "id": "dAIK0eQiIxnh"
      }
    }
  ]
}