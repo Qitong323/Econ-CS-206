{
  "nbformat": 4,
  "nbformat_minor": 0,
  "metadata": {
    "colab": {
      "name": "CS/Econ 206 Computational Microeconomics: Code Assignment 2.ipynb",
      "provenance": [],
      "include_colab_link": true
    },
    "kernelspec": {
      "name": "python3",
      "display_name": "Python 3"
    },
    "language_info": {
      "name": "python"
    }
  },
  "cells": [
    {
      "cell_type": "markdown",
      "metadata": {
        "id": "view-in-github",
        "colab_type": "text"
      },
      "source": [
        "<a href=\"https://colab.research.google.com/github/Qitong323/Econ-CS-206/blob/main/CS_Econ_206_Computational_Microeconomics_Code_Assignment_2.ipynb\" target=\"_parent\"><img src=\"https://colab.research.google.com/assets/colab-badge.svg\" alt=\"Open In Colab\"/></a>"
      ]
    },
    {
      "cell_type": "markdown",
      "source": [
        "**Submitted by**: \n",
        "\n",
        "Qitong Cao, [LinkedIn](https://www.linkedin.com/in/natalie-cao-568a28176/):\n",
        "Majoring in [Applied Mathematics]\n",
        "Class of [2022]\n",
        "\n",
        "Duke Kunshan University\n",
        "\n",
        "\n",
        "---\n",
        "\n"
      ],
      "metadata": {
        "id": "T_st2ocVHzSR"
      }
    },
    {
      "cell_type": "markdown",
      "source": [
        "*Disclaimer: Submissions to Problem Set 1 for COMPSCI/ECON 206 Computational Microeconomics, 2022 Spring Term (Seven Week - Second) instructed by [Prof. Luyao Zhang](http://scholars.duke.edu/person/luyao.zhang) at Duke Kunshan University.*"
      ],
      "metadata": {
        "id": "kUAwQRcLHrTC"
      }
    },
    {
      "cell_type": "markdown",
      "source": [
        "**Resources:**\n",
        "\n",
        "*   Colab Instructions: https://colab.research.google.com/\n",
        "*   Markdown Guide: https://www.markdownguide.org\n",
        "*   Latex Math wiki: https://en.wikibooks.org/wiki/LaTeX/Mathematics\n",
        "\n",
        "\n",
        "*   OER: https://ie.pubpub.org/pub/gpd9nks0/release/2\n",
        "\n",
        "\n",
        "\n",
        "\n",
        "\n",
        "---\n",
        "\n",
        "\n",
        "\n",
        "\n",
        "\n",
        "\n",
        "\n",
        "\n",
        "\n",
        "\n",
        "\n"
      ],
      "metadata": {
        "id": "ZnzuAQJWBADa"
      }
    },
    {
      "cell_type": "markdown",
      "source": [
        "# Part I: Game Theory Concepts (6 points)"
      ],
      "metadata": {
        "id": "gu1DcOeIESvh"
      }
    },
    {
      "cell_type": "markdown",
      "source": [
        "**Note:**\n",
        "\n",
        "*if you can't find definitions in the second computer science textbook, you can also refer to the algorithmic game theory textbook for substitutions.*"
      ],
      "metadata": {
        "id": "jOSZqLH-qA5_"
      }
    },
    {
      "cell_type": "markdown",
      "source": [
        "## 1. Normal Form Game"
      ],
      "metadata": {
        "id": "NspwLDHa_eM3"
      }
    },
    {
      "cell_type": "markdown",
      "source": [
        "### 1.1. What defines a normal form game? Find answers in “A Course in Game Theory by Prof. Ariel Rubinstein and M. Osborne. ([Download](https://arielrubinstein.tau.ac.il/books.html)) "
      ],
      "metadata": {
        "id": "8XxzfHd8_o58"
      }
    },
    {
      "cell_type": "markdown",
      "source": [
        "**Definition 1.1 (Normal Form Game)** \n",
        "\n",
        "*A* **normal form game** (also known as a strategic game) is a model of interactive decision-making in which each decision-maker chooses his plan of action once and for all, and these choices are made simultaneously. [(Osborne and Rubinstein 1994, 11)](https://arielrubinstein.org/gt/arielDocs/downloadme.asp?id=1)"
      ],
      "metadata": {
        "id": "77RcxNkvAleZ"
      }
    },
    {
      "cell_type": "markdown",
      "source": [
        "### 1.2. What defines a normal form game? Find answers in “Multiagent Systems: Algorithmic, Game-Theoretic, and Logical Foundations” by Prof. Yoav Shoham and Kevin Leyton-Brown. ([Download](http://www.masfoundations.org/download.html))"
      ],
      "metadata": {
        "id": "uuDq5spD_3zM"
      }
    },
    {
      "cell_type": "markdown",
      "source": [
        "**Definition 1.2 (Normal-form game)**\n",
        "\n",
        "*A (finite, n-person)* normal-form game *is a tple (N, A, u), where:*\n",
        "\n",
        "\n",
        "*   $N$ *is a finite set of n players, indexed by* $i$; \n",
        "*   $A=A_{1}*...*A_{n}$, where $A_{i}$ is a finite set of actions available to player $i$. Each vector $a=(a_{1},...,a_{n})\\in A$ *is called an* action profile;\n",
        "\n",
        "\n",
        "*   $u=(u_{1},...,u_{n})$ where $u_{i}:A→R$ is *real-valued* utility (*or* payoff) function *for player $i$*.\n",
        "\n",
        "[(Shoham and Leyton-Brown 2009, 56)](http://www.masfoundations.org/mas.pdf) \n",
        "\n",
        "\n",
        "\n"
      ],
      "metadata": {
        "id": "KmArT2ypAw42"
      }
    },
    {
      "cell_type": "markdown",
      "source": [
        "## 2. Static Game with Complete Information and Nash Equilibrium"
      ],
      "metadata": {
        "id": "99joT2yo_ikP"
      }
    },
    {
      "cell_type": "markdown",
      "source": [
        "### 2.1. What defines Nash Equilibrium? Find answers in “A Course in Game Theory by Prof. Ariel Rubinstein and M. Osborne. ([Download](https://arielrubinstein.tau.ac.il/books.html)) "
      ],
      "metadata": {
        "id": "UmHrmxgFB_4Z"
      }
    },
    {
      "cell_type": "markdown",
      "source": [
        "**Definition 2.1.1 (Nash Equilibrium)**\n",
        "\n",
        "A Nash equilibrium of a strategic game $\\left\\langle N,\\left(A_{i}\\right)\\right.$, $\\left.\\left(\\succsim_{i}\\right)\\right\\rangle$ is a profile $a^{*} \\in A$ of actions with the property that for every player $i \\in N$ we have\n",
        "$$\n",
        "\\left(a_{-i}^{*}, a_{i}^{*}\\right) \\succsim_{i}\\left(a_{-i}^{*}, a_{i}\\right) \\text { for all } a_{i} \\in A_{i} .\n",
        "$$\n",
        "Thus for $a^{*}$ to be a Nash equilibrium it must be that no player $i$ has an action yielding an outcome that he prefers to that generated when he chooses $a_{i}^{*}$, given that every other player $j$ chooses his equilibrium action $a_{j}^{*}$. Briefly, no player can profitably deviate, given the actions of the other players. [(Osborne and Rubinstein 1994, 14)](https://arielrubinstein.org/gt/arielDocs/downloadme.asp?id=1)"
      ],
      "metadata": {
        "id": "7gYDMEltGSmj"
      }
    },
    {
      "cell_type": "markdown",
      "source": [
        "### 2.2. What defines Nash Equilibrium? Find answers in “Multiagent Systems: Algorithmic, Game-Theoretic, and Logical Foundations” by Prof. Yoav Shoham and Kevin Leyton-Brown. ([Download](http://www.masfoundations.org/download.html))"
      ],
      "metadata": {
        "id": "5lSqAe33Colc"
      }
    },
    {
      "cell_type": "markdown",
      "source": [
        "**Definition 2.2.1 (Nash Equilibrium)**\n",
        "\n",
        "A strategy profile $s=(s_{1},...,s_{n})$ is a Nash equilibrium if, for all agents $i$,$s$, is a best response to $s_{-i}$.\n",
        "\n",
        "Intuitively, a Nash equilibrium is a stable strategy profile: no agent would want\n",
        "to change his strategy if he knew what strategies the other agents were following.\n",
        "\n",
        "We can divide Nash equilibria into two categories, strict and weak, depending\n",
        "on whether or not every agent’s strategy constitutes a unique best response to the other agents’strategies.\n",
        "\n",
        "[(Shoham and Leyton-Brown 2009, 62-63)](http://www.masfoundations.org/mas.pdf) \n",
        "\n"
      ],
      "metadata": {
        "id": "OGqsuSzxGT0K"
      }
    },
    {
      "cell_type": "markdown",
      "source": [
        "## 3.Bayesian Game and Perfect Bayesian Nash Equilibrium"
      ],
      "metadata": {
        "id": "83uCgKjjC6y7"
      }
    },
    {
      "cell_type": "markdown",
      "source": [
        "### 3.1. How to define Bayesian Game and Bayesian Nash Equilibrium? Find answers in “A Course in Game Theory by Prof. Ariel Rubinstein and M. Osborne. ([Download](https://arielrubinstein.tau.ac.il/books.html)) "
      ],
      "metadata": {
        "id": "FkTUjpOwDBB3"
      }
    },
    {
      "cell_type": "markdown",
      "source": [
        "**Definition 3.1.1 (Bayesian Game)**\n",
        "\n",
        "A Bayesian game consists of\n",
        "- a finite set $N$ (the set of players)\n",
        "- a finite set $\\Omega$ (the set of states)\n",
        "and for each player $i \\in N$\n",
        "- a set $A_{i}$ (the set of actions available to player $i$ )\n",
        "- a finite set $T_{i}$ (the set of signals that may be observed by player $i$ ) and a function $\\tau_{i}: \\Omega \\rightarrow T_{i}$ (the signal function of player $i$ )\n",
        "- a probability measure $p_{i}$ on $\\Omega$ (the prior belief of player $i$ ) for which $p_{i}\\left(\\tau_{i}^{-1}\\left(t_{i}\\right)\\right)>0$ for all $t_{i} \\in T_{i}$\n",
        "- a preference relation $\\succsim_{i}$ on the set of probability measures over $A \\times \\Omega$ (the preference relation of player $i$ ), where $A=\\times_{j \\in N} A_{j}$.\n",
        "\n",
        "[(Osborne and Rubinstein 1994, 25)](https://arielrubinstein.org/gt/arielDocs/downloadme.asp?id=1)\n",
        "\n",
        "**Definirion 3.1.2 (Bayesian Nash Equilibrium)**\n",
        "\n",
        "A Nash equilibrium of a Bayesian game $\\langle N$, $\\left.\\Omega,\\left(A_{i}\\right),\\left(T_{i}\\right),\\left(\\tau_{i}\\right),\\left(p_{i}\\right),\\left(\\succsim_{i}\\right)\\right\\rangle$ is a Nash equilibrium of the strategic game defined as follows.\n",
        "- The set of players is the set of all pairs $\\left(i, t_{i}\\right)$ for $i \\in N$ and $t_{i} \\in T_{i}$.\n",
        "- The set of actions of each player $\\left(i, t_{i}\\right)$ is $A_{i}$.\n",
        "- The preference ordering $\\succsim_{\\left(i, t_{i}\\right)}^{*}$ of each player $\\left(i, t_{i}\\right)$ is defined by $a^{*} \\succsim_{\\left(i, t_{i}\\right)}^{*} b^{*}$ if and only if $L_{i}\\left(a^{*}, t_{i}\\right) \\succsim_{i} L_{i}\\left(b^{*}, t_{i}\\right)$,\n",
        "where $L_{i}\\left(a^{*}, t_{i}\\right)$ is the lottery over $A \\times \\Omega$ that assigns probability $p_{i}(\\omega) / p_{i}\\left(\\tau_{i}^{-1}\\left(t_{i}\\right)\\right)$ to $\\left(\\left(a^{*}\\left(j, \\tau_{j}(\\omega)\\right)\\right)_{j \\in N}, \\omega\\right)$ if $\\omega \\in \\tau_{i}^{-1}\\left(t_{i}\\right)$, zero otherwise.\n",
        "\n",
        "[(Osborne and Rubinstein 1994, 25)](https://arielrubinstein.org/gt/arielDocs/downloadme.asp?id=1)"
      ],
      "metadata": {
        "id": "bygsgchEGU2e"
      }
    },
    {
      "cell_type": "markdown",
      "source": [
        "### 3.2. How to define Bayesian Game and Beyesian Nash Equilibrium? Find answers in “Multiagent Systems: Algorithmic, Game-Theoretic, and Logical Foundations” by Prof. Yoav Shoham and Kevin Leyton-Brown. ([Download](http://www.masfoundations.org/download.html))"
      ],
      "metadata": {
        "id": "DzU78ISuDHbE"
      }
    },
    {
      "cell_type": "markdown",
      "source": [
        "**Definition 3.2.1 (Bayesian game: information sets)**\n",
        "\n",
        "A bayesian game is a tuple (N,G,P,I) where:\n",
        "\n",
        "\n",
        "*   $N$ is a set of agents;\n",
        "*   $G$ is a set of games with $N$ agents each such that if $g$, $g\\prime\\in G$ then for each agent $i\\in N$ the strategy space in $g$ is identical to the strategy space in $g\\prime$;\n",
        "\n",
        "\n",
        "*   $P \\in Π(G)$ is a common prior over games, where $Π(G)$ is the set of all probability distributions over $G$; and\n",
        "*   $I=(I_{1},...,I_{N})$ is a turple of partitions of $G$, one for each agent.\n",
        "\n",
        "[(Shoham and Leyton-Brown 2009, 165)](http://www.masfoundations.org/mas.pdf) \n",
        "\n",
        "**Defition 3.2.2 (Bayesian game: types)**\n",
        "\n",
        "A Bayesian game is a trple ($N$, $A$, $Θ$, $p$, $u$) where:\n",
        "\n",
        "\n",
        "*   $N$ is a set of agents;\n",
        "*   $A=A_{1}×...× A_{n}$, where $A_{i}$ is the of set of actions available to player $i$;\n",
        "\n",
        "\n",
        "*   $Θ=Θ_{1}× ...×Θ_{n}$, where $Θ_{i}$ is rh etype of player $i$;\n",
        "\n",
        "*   $p:Θ→[0,1]$ is a common prior over types; and\n",
        "\n",
        "\n",
        "*   $u=(u_{1},...,u_{n}), where $u_{i}: A ×Θ→R$ is the utility function for player $i$.\n",
        "\n",
        "[(Shoham and Leyton-Brown 2009, 167)](http://www.masfoundations.org/mas.pdf) \n",
        "\n",
        "\n",
        "\n",
        "\n",
        "\n",
        "\n",
        "\n"
      ],
      "metadata": {
        "id": "XlUbTZbRGVu2"
      }
    },
    {
      "cell_type": "markdown",
      "source": [
        "## 4. Extensive Form Game"
      ],
      "metadata": {
        "id": "M_VYxieHDNoX"
      }
    },
    {
      "cell_type": "markdown",
      "source": [
        "### 4.1. How to define extensive form game? Find answers in “A Course in Game Theory by Prof. Ariel Rubinstein and M. Osborne. ([Download](https://arielrubinstein.tau.ac.il/books.html)) "
      ],
      "metadata": {
        "id": "yIf0IJ2yDSQw"
      }
    },
    {
      "cell_type": "markdown",
      "source": [
        "**Definition 4.1 (Extensive for game)**\n",
        "\n",
        "An extensive game is a detailed description of the sequential structure of the decision problems encountered by the players in a strategic situation.\n",
        "\n",
        "[(Osborne and Rubinstein 1994, 89)](https://arielrubinstein.org/gt/arielDocs/downloadme.asp?id=1)\n",
        "\n",
        "\n",
        "\n"
      ],
      "metadata": {
        "id": "aFo1j6BxGWpV"
      }
    },
    {
      "cell_type": "markdown",
      "source": [
        "### 4.2. How to define extensive form game? Find answers in “Multiagent Systems: Algorithmic, Game-Theoretic, and Logical Foundations” by Prof. Yoav Shoham and Kevin Leyton-Brown. ([Download](http://www.masfoundations.org/download.html))"
      ],
      "metadata": {
        "id": "wxAy3l2oDU65"
      }
    },
    {
      "cell_type": "markdown",
      "source": [
        "**Definition 4.2 (Extensive form game)**\n",
        "\n",
        "Extensive games are game trees, with information sets that model imperfect information of the players.\n",
        "\n",
        "[(Noam Nisan 2007, 53)](https://www.cs.cmu.edu/~sandholm/cs15-892F13/algorithmic-game-theory.pdf)"
      ],
      "metadata": {
        "id": "cQ4hei63GXWE"
      }
    },
    {
      "cell_type": "markdown",
      "source": [
        "## 5. Subgame Perfect Nash Equilibrium"
      ],
      "metadata": {
        "id": "pRHu_UxyDYiE"
      }
    },
    {
      "cell_type": "markdown",
      "source": [
        "### 5.1 How to define Subgame Perfect Nash Equilibrium (SPNE)? Find answers in “A Course in Game Theory by Prof. Ariel Rubinstein and M. Osborne. ([Download](https://arielrubinstein.tau.ac.il/books.html)) "
      ],
      "metadata": {
        "id": "sI19ThW2DcVL"
      }
    },
    {
      "cell_type": "markdown",
      "source": [
        "**Definition 5.1 (Subgame perfect nash equilibrium)**\n",
        "\n",
        "A **subgame perfect equilibrium of an extensive game with perfect information** $\\Gamma=\\left\\langle N, H, P,\\left(\\succsim_{i}\\right)\\right\\rangle$ is a strategy profile $s^{*}$ such that for every player $i \\in N$ and every nonterminal history $h \\in H \\backslash Z$ for which $P(h)=i$ we have\n",
        "$$\n",
        "\\left.O_{h}\\left(\\left.s_{-i}^{*}\\right|_{h},\\left.s_{i}^{*}\\right|_{h}\\right) \\succsim_{i}\\right|_{h} O_{h}\\left(\\left.s_{-i}^{*}\\right|_{h}, s_{i}\\right)\n",
        "$$\n",
        "for every strategy $s_{i}$ of player $i$ in the subgame $\\Gamma(h)$.\n",
        "Equivalently, we can define a subgame perfect equilibrium to be a strategy profile $s^{*}$ in $\\Gamma$ for which for any history $h$ the strategy profile $\\left.s^{*}\\right|_{h}$ is a Nash equilibrium of the subgame $\\Gamma(h)$.\n",
        "\n",
        "The notion of subgame perfect equilibrium eliminates Nash equilibria in which the players' threats are not credible. For example, in the game in Figure $96.2$ the only subgame perfect equilibrium is $(A, R)$ and in the game in Figure $91.1$ the only subgame perfect equilibria are $((2,0), y y y)$ and $((1,1), nyy )$.\n",
        "\n",
        "[(Osborne and Rubinstein 1994, 97)](https://arielrubinstein.org/gt/arielDocs/downloadme.asp?id=1)"
      ],
      "metadata": {
        "id": "PT6SijSRGYky"
      }
    },
    {
      "cell_type": "markdown",
      "source": [
        "### 5.2 How to define Subgame Perfect Nash Equilibrium (SPNE)? Find answers in “Multiagent Systems: Algorithmic, Game-Theoretic, and Logical Foundations” by Prof. Yoav Shoham and Kevin Leyton-Brown. ([Download](http://www.masfoundations.org/download.html))"
      ],
      "metadata": {
        "id": "cFsHiBtiDkvr"
      }
    },
    {
      "cell_type": "markdown",
      "source": [
        "**Definition 5.2** **(Subgame-perfect equilibrium)** \n",
        "\n",
        "The subgame-perfect equilibria $(S P E)$ of a game $G$ are all strategy profiles s such that for any subgame $G^{\\prime}$ of $G$, the restriction of s to $G^{\\prime}$ is a Nash equilibrium of $G^{\\prime}$.\n",
        "\n",
        "[(Yoav Shoham and Leyton-Brown 2009, 123)](http://www.masfoundations.org/download.html)"
      ],
      "metadata": {
        "id": "FvrnyekaGZee"
      }
    },
    {
      "cell_type": "markdown",
      "source": [
        "## 6. Perfect Bayesian Equilibrium"
      ],
      "metadata": {
        "id": "bYEfdPtwDmxC"
      }
    },
    {
      "cell_type": "markdown",
      "source": [
        "### 6.1 How to define Perfect Bayesian Equilibrium (PBE)? Find answers in “A Course in Game Theory by Prof. Ariel Rubinstein and M. Osborne. ([Download](https://arielrubinstein.tau.ac.il/books.html)) "
      ],
      "metadata": {
        "id": "W01DTAr7Du2S"
      }
    },
    {
      "cell_type": "markdown",
      "source": [
        "**Definition 6.1 (Perfect Bayesian Equilibrium)**\n",
        "\n",
        "Let $\\left\\langle\\Gamma,\\left(\\Theta_{i}\\right),\\left(p_{i}\\right),\\left(u_{i}\\right)\\right\\rangle$ be a Bayesian extensive game with observable actions, where $\\Gamma=\\langle N, H, P\\rangle$. A pair $\\left(\\left(\\sigma_{i}\\right),\\left(\\mu_{i}\\right)\\right)=$ $\\left(\\left(\\sigma_{i}\\left(\\theta_{i}\\right)\\right)_{i \\in N, \\theta_{i} \\in \\Theta_{i}},\\left(\\mu_{i}(h)\\right)_{i \\in N, h \\in H \\backslash Z}\\right)$, where $\\sigma_{i}\\left(\\theta_{i}\\right)$ is a behavioral strategy of player $i$ in $\\Gamma$ and $\\mu_{i}(h)$ is a probability measure on $\\Theta_{i}$, is a perfect Bayesian equilibrium of the game if the following conditions are satisfied.\n",
        "\n",
        "- Sequential rationality: For every nonterminal history $h \\in H \\backslash Z$, every player $i \\in P(h)$, and every $\\theta_{i} \\in \\Theta_{i}$ the probability measure $O\\left(\\sigma_{-i}, \\sigma_{i}\\left(\\theta_{i}\\right), \\mu_{-i} \\mid h\\right)$ is at least good for type $\\theta_{i}$ as $O\\left(\\sigma_{-i}, s_{i}, \\mu_{-i} \\mid h\\right)$ for any strategy $s_{i}$ of player $i$ in $\\Gamma$.\n",
        "- Correct initial beliefs: $\\mu_{i}(\\varnothing)=p_{i}$ for each $i \\in N$.\n",
        "- Action-determined beliefs: If $i \\notin P(h)$ and $a \\in A(h)$ then $\\mu_{i}(h, a)=$ $\\mu_{i}(h)$; if $i \\in P(h), a \\in A(h), a^{\\prime} \\in A(h)$, and $a_{i}=a_{i}^{\\prime}$ then $\\mu_{i}(h, a)=$ $\\mu_{i}\\left(h, a^{\\prime}\\right)$.\n",
        "- Bayesian updating: If $i \\in P(h)$ and $a_{i}$ is in the support of $\\sigma_{i}\\left(\\theta_{i}\\right)(h)$ for some $\\theta_{i}$ in the support of $\\mu_{i}(h)$ then for any $\\theta_{i}^{\\prime} \\in \\Theta_{i}$ we have\n",
        "$$\n",
        "\\mu_{i}(h, a)\\left(\\theta_{i}^{\\prime}\\right)=\\frac{\\sigma_{i}\\left(\\theta_{i}^{\\prime}\\right)(h)\\left(a_{i}\\right) \\cdot \\mu_{i}(h)\\left(\\theta_{i}^{\\prime}\\right)}{\\sum_{\\theta_{i} \\in \\Theta_{i}} \\sigma_{i}\\left(\\theta_{i}\\right)(h)\\left(a_{i}\\right) \\cdot \\mu_{i}(h)\\left(\\theta_{i}\\right)} .\n",
        "$$\n",
        "\n",
        "<br> [(Osborne and Rubinstein 1994, 233)](https://arielrubinstein.org/gt/arielDocs/downloadme.asp?id=1)"
      ],
      "metadata": {
        "id": "pkcmFXkuGafr"
      }
    },
    {
      "cell_type": "markdown",
      "source": [
        "### 6.2 How to define Perfect Bayesian Equilibrium (PBE)? Find answers in “Multiagent Systems: Algorithmic, Game-Theoretic, and Logical Foundations” by Prof. Yoav Shoham and Kevin Leyton-Brown. ([Download](http://www.masfoundations.org/download.html))"
      ],
      "metadata": {
        "id": "LYqHHdnzD0FH"
      }
    },
    {
      "cell_type": "markdown",
      "source": [
        "*Type your answers here*\n",
        "\n",
        "*Plese provide in-text citations with hyperlink and mark pages numbers*"
      ],
      "metadata": {
        "id": "VyiK3yGIGbY9"
      }
    },
    {
      "cell_type": "markdown",
      "source": [
        "# Part II: Computational Issues (1 points)"
      ],
      "metadata": {
        "id": "59TTvY9hL8Fp"
      }
    },
    {
      "cell_type": "markdown",
      "source": [
        "### Brieftly read Algorithmic Game Theory e-book Chapter 1 and 2. ([URL](https://drive.google.com/file/d/1qbWzkgKbej9KTRcOOK7a57LEU83lRpfY/view?usp=sharing)) Answer the following questions:\n"
      ],
      "metadata": {
        "id": "Uxx8hs5AMBSC"
      }
    },
    {
      "cell_type": "markdown",
      "source": [
        "### RQ1: What is the computational issues of the Nash Equilibrium?\n"
      ],
      "metadata": {
        "id": "T09X801NMa6Q"
      }
    },
    {
      "cell_type": "markdown",
      "source": [
        "From our viewpoint, a shortcoming of this theory is that it is mostly a nonalgo-\n",
        "rithmic theory. With the emergence of numerous new markets on the Internet and the availability of massive computational power for running these markets in a centralized or distributed manner, there is a need for a new, inherently algorithmic theory of market equilibria. Such algorithms can also help understand the repercussions to existing prices, production, and consumption caused by technological advances, introduction of new goods, or changes to the tax structure. \n",
        "\n",
        "[(Noam Nisan 2007)](https://www.cs.cmu.edu/~sandholm/cs15-892F13/algorithmic-game-theory.pdf)"
      ],
      "metadata": {
        "id": "un_JxQwpM3AW"
      }
    },
    {
      "cell_type": "markdown",
      "source": [
        "### RQ2: What is the complexity of finding Nash Equilibrium?"
      ],
      "metadata": {
        "id": "DH-hkNvEM2F9"
      }
    },
    {
      "cell_type": "markdown",
      "source": [
        "Computing a Nash equilibrium, given a game in normal form, is a fundamental problem for Algorithmic Game Theory. The problem is essentially combinatorial, and in the case of two players it can be solved by a pivoting technique called the Lemke–Howson algorithm, which however is exponential in the worst case. We outline the recent proof that finding a Nash equilibrium is complete for the complexity class PPAD, even in the case of two players; this is evidence that the problem is intractable.\n",
        "\n",
        "[(Noam Nisan 2007)](https://www.cs.cmu.edu/~sandholm/cs15-892F13/algorithmic-game-theory.pdf)"
      ],
      "metadata": {
        "id": "XTuQhZZgNaK9"
      }
    },
    {
      "cell_type": "markdown",
      "source": [
        "# Part III: Case Studies (8 points)"
      ],
      "metadata": {
        "id": "xXyERa1rEY1t"
      }
    },
    {
      "cell_type": "markdown",
      "source": [
        "## 1.NashPy"
      ],
      "metadata": {
        "id": "IuwvJrpAEcDJ"
      }
    },
    {
      "cell_type": "markdown",
      "source": [
        "## 1.1. What types of games and solution concepts can NashPy deal with?"
      ],
      "metadata": {
        "id": "AfLajQ4oJE-2"
      }
    },
    {
      "cell_type": "markdown",
      "source": [
        "NashPy appears to be an effective tool for Game Theory Application in Python. Running NashPy, we can manage the basic process of a game calcultion, including ceating a game, calculating the utility of a pair of strategies, computing Nash equilibria and indicating real practical results for learning. It has involved various approaches to solving the problems, namely vertex enumeration, Lemke Howson and suuport enumeration; and various immplemented learning algorithms, namely ficitions play, stochastic fictious play, Replicator dynamics, asymmetric replicator dynamics, Moran process, etc. \n",
        "\n",
        "Different types of games can be created in NashPy, including Normal Form Game such as Coordination Game, the zero sum game Maching Pennies, and Prinsons Dilemma; Extensive Form Games; Repeated Games; Degenerate Games, etc.\n",
        "\n",
        "[Knight, Vincent](https://nashpy.readthedocs.io/_/downloads/en/stable/pdf/.). 2022. “Nashpy Documentation Release 0.0.32.” https://nashpy.readthedocs.io/_/downloads/en/stable/pdf/.\n"
      ],
      "metadata": {
        "id": "rsDohKC1NbSb"
      }
    },
    {
      "cell_type": "markdown",
      "source": [
        "## 1.2. Apply NashPy to solve a solution concept on a specific game (your own choices) different from the case studies in the OER"
      ],
      "metadata": {
        "id": "VcFMSS8hJY0i"
      }
    },
    {
      "cell_type": "code",
      "source": [
        "### Install Nashpy\n",
        "!pip install nashpy\n",
        "\n",
        "###Create a Normal Form Game- zero sum game Prisoners Dilemma\n",
        "import nashpy as nash\n",
        "import numpy as np\n",
        "A=np.array([[3,0],[5,1]])\n",
        "B=np.array([[3,5],[0,1]])\n",
        "prisoners_dilemma=nash.Game(A,B)\n",
        "prisoners_dilemma\n",
        "\n",
        "#Calculate utilities\n",
        "#The utility for both players when they both play their first action\n",
        "sigma_r=np.array([1,0])\n",
        "sigma_c=np.array([1,0])\n",
        "prisoners_dilemma[sigma_r,sigma_c]\n",
        "\n",
        "#The utility to both players when they play uniformly random;y across both their actions:\n",
        "sigma_r1=np.array([1/2,1/2])\n",
        "sigma_c1=np.array([1/2,1/2])\n",
        "prisoners_dilemma[sigma_r1,sigma_c1]\n",
        "\n",
        "#Solve the game with fictious play method\n",
        "np.random.seed(0)\n",
        "iterations=500\n",
        "play_counts=prisoners_dilemma.fictitious_play(iterations=iterations)\n",
        "for row_play_counts, column_play_counts in play_counts:\n",
        "  print(row_play_counts, column_play_counts)\n",
        "\n"
      ],
      "metadata": {
        "id": "AOwskFQNNjbK",
        "outputId": "876c1bdd-b3d0-4899-ad1d-3ce01a7dd6fb",
        "colab": {
          "base_uri": "https://localhost:8080/"
        }
      },
      "execution_count": 16,
      "outputs": [
        {
          "output_type": "stream",
          "name": "stdout",
          "text": [
            "Requirement already satisfied: nashpy in /usr/local/lib/python3.7/dist-packages (0.0.21)\n",
            "Requirement already satisfied: scipy>=0.19.0 in /usr/local/lib/python3.7/dist-packages (from nashpy) (1.4.1)\n",
            "Requirement already satisfied: numpy>=1.12.1 in /usr/local/lib/python3.7/dist-packages (from nashpy) (1.21.5)\n",
            "[0 0] [0 0]\n",
            "[1. 0.] [0. 1.]\n",
            "[1. 1.] [0. 2.]\n",
            "[1. 2.] [0. 3.]\n",
            "[1. 3.] [0. 4.]\n",
            "[1. 4.] [0. 5.]\n",
            "[1. 5.] [0. 6.]\n",
            "[1. 6.] [0. 7.]\n",
            "[1. 7.] [0. 8.]\n",
            "[1. 8.] [0. 9.]\n",
            "[1. 9.] [ 0. 10.]\n",
            "[ 1. 10.] [ 0. 11.]\n",
            "[ 1. 11.] [ 0. 12.]\n",
            "[ 1. 12.] [ 0. 13.]\n",
            "[ 1. 13.] [ 0. 14.]\n",
            "[ 1. 14.] [ 0. 15.]\n",
            "[ 1. 15.] [ 0. 16.]\n",
            "[ 1. 16.] [ 0. 17.]\n",
            "[ 1. 17.] [ 0. 18.]\n",
            "[ 1. 18.] [ 0. 19.]\n",
            "[ 1. 19.] [ 0. 20.]\n",
            "[ 1. 20.] [ 0. 21.]\n",
            "[ 1. 21.] [ 0. 22.]\n",
            "[ 1. 22.] [ 0. 23.]\n",
            "[ 1. 23.] [ 0. 24.]\n",
            "[ 1. 24.] [ 0. 25.]\n",
            "[ 1. 25.] [ 0. 26.]\n",
            "[ 1. 26.] [ 0. 27.]\n",
            "[ 1. 27.] [ 0. 28.]\n",
            "[ 1. 28.] [ 0. 29.]\n",
            "[ 1. 29.] [ 0. 30.]\n",
            "[ 1. 30.] [ 0. 31.]\n",
            "[ 1. 31.] [ 0. 32.]\n",
            "[ 1. 32.] [ 0. 33.]\n",
            "[ 1. 33.] [ 0. 34.]\n",
            "[ 1. 34.] [ 0. 35.]\n",
            "[ 1. 35.] [ 0. 36.]\n",
            "[ 1. 36.] [ 0. 37.]\n",
            "[ 1. 37.] [ 0. 38.]\n",
            "[ 1. 38.] [ 0. 39.]\n",
            "[ 1. 39.] [ 0. 40.]\n",
            "[ 1. 40.] [ 0. 41.]\n",
            "[ 1. 41.] [ 0. 42.]\n",
            "[ 1. 42.] [ 0. 43.]\n",
            "[ 1. 43.] [ 0. 44.]\n",
            "[ 1. 44.] [ 0. 45.]\n",
            "[ 1. 45.] [ 0. 46.]\n",
            "[ 1. 46.] [ 0. 47.]\n",
            "[ 1. 47.] [ 0. 48.]\n",
            "[ 1. 48.] [ 0. 49.]\n",
            "[ 1. 49.] [ 0. 50.]\n",
            "[ 1. 50.] [ 0. 51.]\n",
            "[ 1. 51.] [ 0. 52.]\n",
            "[ 1. 52.] [ 0. 53.]\n",
            "[ 1. 53.] [ 0. 54.]\n",
            "[ 1. 54.] [ 0. 55.]\n",
            "[ 1. 55.] [ 0. 56.]\n",
            "[ 1. 56.] [ 0. 57.]\n",
            "[ 1. 57.] [ 0. 58.]\n",
            "[ 1. 58.] [ 0. 59.]\n",
            "[ 1. 59.] [ 0. 60.]\n",
            "[ 1. 60.] [ 0. 61.]\n",
            "[ 1. 61.] [ 0. 62.]\n",
            "[ 1. 62.] [ 0. 63.]\n",
            "[ 1. 63.] [ 0. 64.]\n",
            "[ 1. 64.] [ 0. 65.]\n",
            "[ 1. 65.] [ 0. 66.]\n",
            "[ 1. 66.] [ 0. 67.]\n",
            "[ 1. 67.] [ 0. 68.]\n",
            "[ 1. 68.] [ 0. 69.]\n",
            "[ 1. 69.] [ 0. 70.]\n",
            "[ 1. 70.] [ 0. 71.]\n",
            "[ 1. 71.] [ 0. 72.]\n",
            "[ 1. 72.] [ 0. 73.]\n",
            "[ 1. 73.] [ 0. 74.]\n",
            "[ 1. 74.] [ 0. 75.]\n",
            "[ 1. 75.] [ 0. 76.]\n",
            "[ 1. 76.] [ 0. 77.]\n",
            "[ 1. 77.] [ 0. 78.]\n",
            "[ 1. 78.] [ 0. 79.]\n",
            "[ 1. 79.] [ 0. 80.]\n",
            "[ 1. 80.] [ 0. 81.]\n",
            "[ 1. 81.] [ 0. 82.]\n",
            "[ 1. 82.] [ 0. 83.]\n",
            "[ 1. 83.] [ 0. 84.]\n",
            "[ 1. 84.] [ 0. 85.]\n",
            "[ 1. 85.] [ 0. 86.]\n",
            "[ 1. 86.] [ 0. 87.]\n",
            "[ 1. 87.] [ 0. 88.]\n",
            "[ 1. 88.] [ 0. 89.]\n",
            "[ 1. 89.] [ 0. 90.]\n",
            "[ 1. 90.] [ 0. 91.]\n",
            "[ 1. 91.] [ 0. 92.]\n",
            "[ 1. 92.] [ 0. 93.]\n",
            "[ 1. 93.] [ 0. 94.]\n",
            "[ 1. 94.] [ 0. 95.]\n",
            "[ 1. 95.] [ 0. 96.]\n",
            "[ 1. 96.] [ 0. 97.]\n",
            "[ 1. 97.] [ 0. 98.]\n",
            "[ 1. 98.] [ 0. 99.]\n",
            "[ 1. 99.] [  0. 100.]\n",
            "[  1. 100.] [  0. 101.]\n",
            "[  1. 101.] [  0. 102.]\n",
            "[  1. 102.] [  0. 103.]\n",
            "[  1. 103.] [  0. 104.]\n",
            "[  1. 104.] [  0. 105.]\n",
            "[  1. 105.] [  0. 106.]\n",
            "[  1. 106.] [  0. 107.]\n",
            "[  1. 107.] [  0. 108.]\n",
            "[  1. 108.] [  0. 109.]\n",
            "[  1. 109.] [  0. 110.]\n",
            "[  1. 110.] [  0. 111.]\n",
            "[  1. 111.] [  0. 112.]\n",
            "[  1. 112.] [  0. 113.]\n",
            "[  1. 113.] [  0. 114.]\n",
            "[  1. 114.] [  0. 115.]\n",
            "[  1. 115.] [  0. 116.]\n",
            "[  1. 116.] [  0. 117.]\n",
            "[  1. 117.] [  0. 118.]\n",
            "[  1. 118.] [  0. 119.]\n",
            "[  1. 119.] [  0. 120.]\n",
            "[  1. 120.] [  0. 121.]\n",
            "[  1. 121.] [  0. 122.]\n",
            "[  1. 122.] [  0. 123.]\n",
            "[  1. 123.] [  0. 124.]\n",
            "[  1. 124.] [  0. 125.]\n",
            "[  1. 125.] [  0. 126.]\n",
            "[  1. 126.] [  0. 127.]\n",
            "[  1. 127.] [  0. 128.]\n",
            "[  1. 128.] [  0. 129.]\n",
            "[  1. 129.] [  0. 130.]\n",
            "[  1. 130.] [  0. 131.]\n",
            "[  1. 131.] [  0. 132.]\n",
            "[  1. 132.] [  0. 133.]\n",
            "[  1. 133.] [  0. 134.]\n",
            "[  1. 134.] [  0. 135.]\n",
            "[  1. 135.] [  0. 136.]\n",
            "[  1. 136.] [  0. 137.]\n",
            "[  1. 137.] [  0. 138.]\n",
            "[  1. 138.] [  0. 139.]\n",
            "[  1. 139.] [  0. 140.]\n",
            "[  1. 140.] [  0. 141.]\n",
            "[  1. 141.] [  0. 142.]\n",
            "[  1. 142.] [  0. 143.]\n",
            "[  1. 143.] [  0. 144.]\n",
            "[  1. 144.] [  0. 145.]\n",
            "[  1. 145.] [  0. 146.]\n",
            "[  1. 146.] [  0. 147.]\n",
            "[  1. 147.] [  0. 148.]\n",
            "[  1. 148.] [  0. 149.]\n",
            "[  1. 149.] [  0. 150.]\n",
            "[  1. 150.] [  0. 151.]\n",
            "[  1. 151.] [  0. 152.]\n",
            "[  1. 152.] [  0. 153.]\n",
            "[  1. 153.] [  0. 154.]\n",
            "[  1. 154.] [  0. 155.]\n",
            "[  1. 155.] [  0. 156.]\n",
            "[  1. 156.] [  0. 157.]\n",
            "[  1. 157.] [  0. 158.]\n",
            "[  1. 158.] [  0. 159.]\n",
            "[  1. 159.] [  0. 160.]\n",
            "[  1. 160.] [  0. 161.]\n",
            "[  1. 161.] [  0. 162.]\n",
            "[  1. 162.] [  0. 163.]\n",
            "[  1. 163.] [  0. 164.]\n",
            "[  1. 164.] [  0. 165.]\n",
            "[  1. 165.] [  0. 166.]\n",
            "[  1. 166.] [  0. 167.]\n",
            "[  1. 167.] [  0. 168.]\n",
            "[  1. 168.] [  0. 169.]\n",
            "[  1. 169.] [  0. 170.]\n",
            "[  1. 170.] [  0. 171.]\n",
            "[  1. 171.] [  0. 172.]\n",
            "[  1. 172.] [  0. 173.]\n",
            "[  1. 173.] [  0. 174.]\n",
            "[  1. 174.] [  0. 175.]\n",
            "[  1. 175.] [  0. 176.]\n",
            "[  1. 176.] [  0. 177.]\n",
            "[  1. 177.] [  0. 178.]\n",
            "[  1. 178.] [  0. 179.]\n",
            "[  1. 179.] [  0. 180.]\n",
            "[  1. 180.] [  0. 181.]\n",
            "[  1. 181.] [  0. 182.]\n",
            "[  1. 182.] [  0. 183.]\n",
            "[  1. 183.] [  0. 184.]\n",
            "[  1. 184.] [  0. 185.]\n",
            "[  1. 185.] [  0. 186.]\n",
            "[  1. 186.] [  0. 187.]\n",
            "[  1. 187.] [  0. 188.]\n",
            "[  1. 188.] [  0. 189.]\n",
            "[  1. 189.] [  0. 190.]\n",
            "[  1. 190.] [  0. 191.]\n",
            "[  1. 191.] [  0. 192.]\n",
            "[  1. 192.] [  0. 193.]\n",
            "[  1. 193.] [  0. 194.]\n",
            "[  1. 194.] [  0. 195.]\n",
            "[  1. 195.] [  0. 196.]\n",
            "[  1. 196.] [  0. 197.]\n",
            "[  1. 197.] [  0. 198.]\n",
            "[  1. 198.] [  0. 199.]\n",
            "[  1. 199.] [  0. 200.]\n",
            "[  1. 200.] [  0. 201.]\n",
            "[  1. 201.] [  0. 202.]\n",
            "[  1. 202.] [  0. 203.]\n",
            "[  1. 203.] [  0. 204.]\n",
            "[  1. 204.] [  0. 205.]\n",
            "[  1. 205.] [  0. 206.]\n",
            "[  1. 206.] [  0. 207.]\n",
            "[  1. 207.] [  0. 208.]\n",
            "[  1. 208.] [  0. 209.]\n",
            "[  1. 209.] [  0. 210.]\n",
            "[  1. 210.] [  0. 211.]\n",
            "[  1. 211.] [  0. 212.]\n",
            "[  1. 212.] [  0. 213.]\n",
            "[  1. 213.] [  0. 214.]\n",
            "[  1. 214.] [  0. 215.]\n",
            "[  1. 215.] [  0. 216.]\n",
            "[  1. 216.] [  0. 217.]\n",
            "[  1. 217.] [  0. 218.]\n",
            "[  1. 218.] [  0. 219.]\n",
            "[  1. 219.] [  0. 220.]\n",
            "[  1. 220.] [  0. 221.]\n",
            "[  1. 221.] [  0. 222.]\n",
            "[  1. 222.] [  0. 223.]\n",
            "[  1. 223.] [  0. 224.]\n",
            "[  1. 224.] [  0. 225.]\n",
            "[  1. 225.] [  0. 226.]\n",
            "[  1. 226.] [  0. 227.]\n",
            "[  1. 227.] [  0. 228.]\n",
            "[  1. 228.] [  0. 229.]\n",
            "[  1. 229.] [  0. 230.]\n",
            "[  1. 230.] [  0. 231.]\n",
            "[  1. 231.] [  0. 232.]\n",
            "[  1. 232.] [  0. 233.]\n",
            "[  1. 233.] [  0. 234.]\n",
            "[  1. 234.] [  0. 235.]\n",
            "[  1. 235.] [  0. 236.]\n",
            "[  1. 236.] [  0. 237.]\n",
            "[  1. 237.] [  0. 238.]\n",
            "[  1. 238.] [  0. 239.]\n",
            "[  1. 239.] [  0. 240.]\n",
            "[  1. 240.] [  0. 241.]\n",
            "[  1. 241.] [  0. 242.]\n",
            "[  1. 242.] [  0. 243.]\n",
            "[  1. 243.] [  0. 244.]\n",
            "[  1. 244.] [  0. 245.]\n",
            "[  1. 245.] [  0. 246.]\n",
            "[  1. 246.] [  0. 247.]\n",
            "[  1. 247.] [  0. 248.]\n",
            "[  1. 248.] [  0. 249.]\n",
            "[  1. 249.] [  0. 250.]\n",
            "[  1. 250.] [  0. 251.]\n",
            "[  1. 251.] [  0. 252.]\n",
            "[  1. 252.] [  0. 253.]\n",
            "[  1. 253.] [  0. 254.]\n",
            "[  1. 254.] [  0. 255.]\n",
            "[  1. 255.] [  0. 256.]\n",
            "[  1. 256.] [  0. 257.]\n",
            "[  1. 257.] [  0. 258.]\n",
            "[  1. 258.] [  0. 259.]\n",
            "[  1. 259.] [  0. 260.]\n",
            "[  1. 260.] [  0. 261.]\n",
            "[  1. 261.] [  0. 262.]\n",
            "[  1. 262.] [  0. 263.]\n",
            "[  1. 263.] [  0. 264.]\n",
            "[  1. 264.] [  0. 265.]\n",
            "[  1. 265.] [  0. 266.]\n",
            "[  1. 266.] [  0. 267.]\n",
            "[  1. 267.] [  0. 268.]\n",
            "[  1. 268.] [  0. 269.]\n",
            "[  1. 269.] [  0. 270.]\n",
            "[  1. 270.] [  0. 271.]\n",
            "[  1. 271.] [  0. 272.]\n",
            "[  1. 272.] [  0. 273.]\n",
            "[  1. 273.] [  0. 274.]\n",
            "[  1. 274.] [  0. 275.]\n",
            "[  1. 275.] [  0. 276.]\n",
            "[  1. 276.] [  0. 277.]\n",
            "[  1. 277.] [  0. 278.]\n",
            "[  1. 278.] [  0. 279.]\n",
            "[  1. 279.] [  0. 280.]\n",
            "[  1. 280.] [  0. 281.]\n",
            "[  1. 281.] [  0. 282.]\n",
            "[  1. 282.] [  0. 283.]\n",
            "[  1. 283.] [  0. 284.]\n",
            "[  1. 284.] [  0. 285.]\n",
            "[  1. 285.] [  0. 286.]\n",
            "[  1. 286.] [  0. 287.]\n",
            "[  1. 287.] [  0. 288.]\n",
            "[  1. 288.] [  0. 289.]\n",
            "[  1. 289.] [  0. 290.]\n",
            "[  1. 290.] [  0. 291.]\n",
            "[  1. 291.] [  0. 292.]\n",
            "[  1. 292.] [  0. 293.]\n",
            "[  1. 293.] [  0. 294.]\n",
            "[  1. 294.] [  0. 295.]\n",
            "[  1. 295.] [  0. 296.]\n",
            "[  1. 296.] [  0. 297.]\n",
            "[  1. 297.] [  0. 298.]\n",
            "[  1. 298.] [  0. 299.]\n",
            "[  1. 299.] [  0. 300.]\n",
            "[  1. 300.] [  0. 301.]\n",
            "[  1. 301.] [  0. 302.]\n",
            "[  1. 302.] [  0. 303.]\n",
            "[  1. 303.] [  0. 304.]\n",
            "[  1. 304.] [  0. 305.]\n",
            "[  1. 305.] [  0. 306.]\n",
            "[  1. 306.] [  0. 307.]\n",
            "[  1. 307.] [  0. 308.]\n",
            "[  1. 308.] [  0. 309.]\n",
            "[  1. 309.] [  0. 310.]\n",
            "[  1. 310.] [  0. 311.]\n",
            "[  1. 311.] [  0. 312.]\n",
            "[  1. 312.] [  0. 313.]\n",
            "[  1. 313.] [  0. 314.]\n",
            "[  1. 314.] [  0. 315.]\n",
            "[  1. 315.] [  0. 316.]\n",
            "[  1. 316.] [  0. 317.]\n",
            "[  1. 317.] [  0. 318.]\n",
            "[  1. 318.] [  0. 319.]\n",
            "[  1. 319.] [  0. 320.]\n",
            "[  1. 320.] [  0. 321.]\n",
            "[  1. 321.] [  0. 322.]\n",
            "[  1. 322.] [  0. 323.]\n",
            "[  1. 323.] [  0. 324.]\n",
            "[  1. 324.] [  0. 325.]\n",
            "[  1. 325.] [  0. 326.]\n",
            "[  1. 326.] [  0. 327.]\n",
            "[  1. 327.] [  0. 328.]\n",
            "[  1. 328.] [  0. 329.]\n",
            "[  1. 329.] [  0. 330.]\n",
            "[  1. 330.] [  0. 331.]\n",
            "[  1. 331.] [  0. 332.]\n",
            "[  1. 332.] [  0. 333.]\n",
            "[  1. 333.] [  0. 334.]\n",
            "[  1. 334.] [  0. 335.]\n",
            "[  1. 335.] [  0. 336.]\n",
            "[  1. 336.] [  0. 337.]\n",
            "[  1. 337.] [  0. 338.]\n",
            "[  1. 338.] [  0. 339.]\n",
            "[  1. 339.] [  0. 340.]\n",
            "[  1. 340.] [  0. 341.]\n",
            "[  1. 341.] [  0. 342.]\n",
            "[  1. 342.] [  0. 343.]\n",
            "[  1. 343.] [  0. 344.]\n",
            "[  1. 344.] [  0. 345.]\n",
            "[  1. 345.] [  0. 346.]\n",
            "[  1. 346.] [  0. 347.]\n",
            "[  1. 347.] [  0. 348.]\n",
            "[  1. 348.] [  0. 349.]\n",
            "[  1. 349.] [  0. 350.]\n",
            "[  1. 350.] [  0. 351.]\n",
            "[  1. 351.] [  0. 352.]\n",
            "[  1. 352.] [  0. 353.]\n",
            "[  1. 353.] [  0. 354.]\n",
            "[  1. 354.] [  0. 355.]\n",
            "[  1. 355.] [  0. 356.]\n",
            "[  1. 356.] [  0. 357.]\n",
            "[  1. 357.] [  0. 358.]\n",
            "[  1. 358.] [  0. 359.]\n",
            "[  1. 359.] [  0. 360.]\n",
            "[  1. 360.] [  0. 361.]\n",
            "[  1. 361.] [  0. 362.]\n",
            "[  1. 362.] [  0. 363.]\n",
            "[  1. 363.] [  0. 364.]\n",
            "[  1. 364.] [  0. 365.]\n",
            "[  1. 365.] [  0. 366.]\n",
            "[  1. 366.] [  0. 367.]\n",
            "[  1. 367.] [  0. 368.]\n",
            "[  1. 368.] [  0. 369.]\n",
            "[  1. 369.] [  0. 370.]\n",
            "[  1. 370.] [  0. 371.]\n",
            "[  1. 371.] [  0. 372.]\n",
            "[  1. 372.] [  0. 373.]\n",
            "[  1. 373.] [  0. 374.]\n",
            "[  1. 374.] [  0. 375.]\n",
            "[  1. 375.] [  0. 376.]\n",
            "[  1. 376.] [  0. 377.]\n",
            "[  1. 377.] [  0. 378.]\n",
            "[  1. 378.] [  0. 379.]\n",
            "[  1. 379.] [  0. 380.]\n",
            "[  1. 380.] [  0. 381.]\n",
            "[  1. 381.] [  0. 382.]\n",
            "[  1. 382.] [  0. 383.]\n",
            "[  1. 383.] [  0. 384.]\n",
            "[  1. 384.] [  0. 385.]\n",
            "[  1. 385.] [  0. 386.]\n",
            "[  1. 386.] [  0. 387.]\n",
            "[  1. 387.] [  0. 388.]\n",
            "[  1. 388.] [  0. 389.]\n",
            "[  1. 389.] [  0. 390.]\n",
            "[  1. 390.] [  0. 391.]\n",
            "[  1. 391.] [  0. 392.]\n",
            "[  1. 392.] [  0. 393.]\n",
            "[  1. 393.] [  0. 394.]\n",
            "[  1. 394.] [  0. 395.]\n",
            "[  1. 395.] [  0. 396.]\n",
            "[  1. 396.] [  0. 397.]\n",
            "[  1. 397.] [  0. 398.]\n",
            "[  1. 398.] [  0. 399.]\n",
            "[  1. 399.] [  0. 400.]\n",
            "[  1. 400.] [  0. 401.]\n",
            "[  1. 401.] [  0. 402.]\n",
            "[  1. 402.] [  0. 403.]\n",
            "[  1. 403.] [  0. 404.]\n",
            "[  1. 404.] [  0. 405.]\n",
            "[  1. 405.] [  0. 406.]\n",
            "[  1. 406.] [  0. 407.]\n",
            "[  1. 407.] [  0. 408.]\n",
            "[  1. 408.] [  0. 409.]\n",
            "[  1. 409.] [  0. 410.]\n",
            "[  1. 410.] [  0. 411.]\n",
            "[  1. 411.] [  0. 412.]\n",
            "[  1. 412.] [  0. 413.]\n",
            "[  1. 413.] [  0. 414.]\n",
            "[  1. 414.] [  0. 415.]\n",
            "[  1. 415.] [  0. 416.]\n",
            "[  1. 416.] [  0. 417.]\n",
            "[  1. 417.] [  0. 418.]\n",
            "[  1. 418.] [  0. 419.]\n",
            "[  1. 419.] [  0. 420.]\n",
            "[  1. 420.] [  0. 421.]\n",
            "[  1. 421.] [  0. 422.]\n",
            "[  1. 422.] [  0. 423.]\n",
            "[  1. 423.] [  0. 424.]\n",
            "[  1. 424.] [  0. 425.]\n",
            "[  1. 425.] [  0. 426.]\n",
            "[  1. 426.] [  0. 427.]\n",
            "[  1. 427.] [  0. 428.]\n",
            "[  1. 428.] [  0. 429.]\n",
            "[  1. 429.] [  0. 430.]\n",
            "[  1. 430.] [  0. 431.]\n",
            "[  1. 431.] [  0. 432.]\n",
            "[  1. 432.] [  0. 433.]\n",
            "[  1. 433.] [  0. 434.]\n",
            "[  1. 434.] [  0. 435.]\n",
            "[  1. 435.] [  0. 436.]\n",
            "[  1. 436.] [  0. 437.]\n",
            "[  1. 437.] [  0. 438.]\n",
            "[  1. 438.] [  0. 439.]\n",
            "[  1. 439.] [  0. 440.]\n",
            "[  1. 440.] [  0. 441.]\n",
            "[  1. 441.] [  0. 442.]\n",
            "[  1. 442.] [  0. 443.]\n",
            "[  1. 443.] [  0. 444.]\n",
            "[  1. 444.] [  0. 445.]\n",
            "[  1. 445.] [  0. 446.]\n",
            "[  1. 446.] [  0. 447.]\n",
            "[  1. 447.] [  0. 448.]\n",
            "[  1. 448.] [  0. 449.]\n",
            "[  1. 449.] [  0. 450.]\n",
            "[  1. 450.] [  0. 451.]\n",
            "[  1. 451.] [  0. 452.]\n",
            "[  1. 452.] [  0. 453.]\n",
            "[  1. 453.] [  0. 454.]\n",
            "[  1. 454.] [  0. 455.]\n",
            "[  1. 455.] [  0. 456.]\n",
            "[  1. 456.] [  0. 457.]\n",
            "[  1. 457.] [  0. 458.]\n",
            "[  1. 458.] [  0. 459.]\n",
            "[  1. 459.] [  0. 460.]\n",
            "[  1. 460.] [  0. 461.]\n",
            "[  1. 461.] [  0. 462.]\n",
            "[  1. 462.] [  0. 463.]\n",
            "[  1. 463.] [  0. 464.]\n",
            "[  1. 464.] [  0. 465.]\n",
            "[  1. 465.] [  0. 466.]\n",
            "[  1. 466.] [  0. 467.]\n",
            "[  1. 467.] [  0. 468.]\n",
            "[  1. 468.] [  0. 469.]\n",
            "[  1. 469.] [  0. 470.]\n",
            "[  1. 470.] [  0. 471.]\n",
            "[  1. 471.] [  0. 472.]\n",
            "[  1. 472.] [  0. 473.]\n",
            "[  1. 473.] [  0. 474.]\n",
            "[  1. 474.] [  0. 475.]\n",
            "[  1. 475.] [  0. 476.]\n",
            "[  1. 476.] [  0. 477.]\n",
            "[  1. 477.] [  0. 478.]\n",
            "[  1. 478.] [  0. 479.]\n",
            "[  1. 479.] [  0. 480.]\n",
            "[  1. 480.] [  0. 481.]\n",
            "[  1. 481.] [  0. 482.]\n",
            "[  1. 482.] [  0. 483.]\n",
            "[  1. 483.] [  0. 484.]\n",
            "[  1. 484.] [  0. 485.]\n",
            "[  1. 485.] [  0. 486.]\n",
            "[  1. 486.] [  0. 487.]\n",
            "[  1. 487.] [  0. 488.]\n",
            "[  1. 488.] [  0. 489.]\n",
            "[  1. 489.] [  0. 490.]\n",
            "[  1. 490.] [  0. 491.]\n",
            "[  1. 491.] [  0. 492.]\n",
            "[  1. 492.] [  0. 493.]\n",
            "[  1. 493.] [  0. 494.]\n",
            "[  1. 494.] [  0. 495.]\n",
            "[  1. 495.] [  0. 496.]\n",
            "[  1. 496.] [  0. 497.]\n",
            "[  1. 497.] [  0. 498.]\n",
            "[  1. 498.] [  0. 499.]\n",
            "[  1. 499.] [  0. 500.]\n"
          ]
        }
      ]
    },
    {
      "cell_type": "markdown",
      "source": [
        ""
      ],
      "metadata": {
        "id": "V-I5dIDFNi96"
      }
    },
    {
      "cell_type": "markdown",
      "source": [
        "# 2. QuantEcon"
      ],
      "metadata": {
        "id": "ghdeU3TBEen4"
      }
    },
    {
      "cell_type": "markdown",
      "source": [
        "## 2.1. What types of games and soution concepts can QuantEcon deal with?"
      ],
      "metadata": {
        "id": "LVUTcelYJhlE"
      }
    },
    {
      "cell_type": "markdown",
      "source": [
        "The quantecon pthon library consists of a numebr of modules, including game theory (game_theory). It provides environment for normal form game and repeated game with different approaches to solve and evaluate, including Lemke-Howson algorithm to compute mixed Nash equilibria of a 2-player normal form game, and McLennan & Tourky algorithm to compute mixed Nash equilibria of an N-player normal form game. Besides, it has involved the methods for computing pure Nash equilibria. Italso provides different approaches to computing mixed Nash quilibria of a 2-player normal form game by support enumeration, namely support enumeration and vertex enumertaion. Additionally, the module, bimatrix_generators, contains functions that generate NormalFormGame instances of 2-player games sudied by Fearnley, lgwe, and Savani (2015).\n",
        "\n",
        "**References:**\n",
        "\n",
        "J. Fearnley, T. P. Igwe, and R. Savani, “An Empirical Study of Finding Approximate Equilibria in Bimatrix Games,” International Symposium on Experimental Algorithms (SEA), 2015.\n",
        "\n",
        "QuantEcon Developer Team. 2019. “QuantEcon Documentation Release (0.4.3).” https://quanteconpy.readthedocs.io/_/downloads/en/fix-docs-build/pdf/."
      ],
      "metadata": {
        "id": "oPWdflnKNij1"
      }
    },
    {
      "cell_type": "markdown",
      "source": [
        "## 2.2. Apply NashPy to solve a solution concept on a specific game (your own choices) different from the case studies in the OER"
      ],
      "metadata": {
        "id": "YZtbPe0DKKOU"
      }
    },
    {
      "cell_type": "code",
      "source": [
        "#intall Quantecon\n",
        "!pip install quantecon\n",
        "import quantecon.game_theory as gt\n",
        "\n",
        "#Reduce the digits printed\n",
        "np.set_printoptions(precision=4)\n",
        "bimatrix=[[(3,3),(3,2)],[(2,2),(5,6)],[(0,3),(6,1)]]\n",
        "g=gt.NormalFormGame(bimatrix)\n",
        "gt.lemke_howson(g,init_pivot=1)\n",
        "g.is_nash(_)\n",
        "NE,res=gt.lemke_howson(g,init_pivot=1,full_output=True)\n",
        "# Whether the routine has converged\n",
        "res.converged\n",
        "# Number of pivoting steps performed\n",
        "res.num_iter"
      ],
      "metadata": {
        "id": "xpFLOBEAx8Jw",
        "outputId": "874eada5-6717-4476-c0be-5be3afec2e0f",
        "colab": {
          "base_uri": "https://localhost:8080/"
        }
      },
      "execution_count": 36,
      "outputs": [
        {
          "output_type": "stream",
          "name": "stdout",
          "text": [
            "Requirement already satisfied: quantecon in /usr/local/lib/python3.7/dist-packages (0.5.3)\n",
            "Requirement already satisfied: sympy in /usr/local/lib/python3.7/dist-packages (from quantecon) (1.7.1)\n",
            "Requirement already satisfied: numba in /usr/local/lib/python3.7/dist-packages (from quantecon) (0.51.2)\n",
            "Requirement already satisfied: numpy in /usr/local/lib/python3.7/dist-packages (from quantecon) (1.21.5)\n",
            "Requirement already satisfied: requests in /usr/local/lib/python3.7/dist-packages (from quantecon) (2.23.0)\n",
            "Requirement already satisfied: scipy>=1.0.0 in /usr/local/lib/python3.7/dist-packages (from quantecon) (1.4.1)\n",
            "Requirement already satisfied: setuptools in /usr/local/lib/python3.7/dist-packages (from numba->quantecon) (57.4.0)\n",
            "Requirement already satisfied: llvmlite<0.35,>=0.34.0.dev0 in /usr/local/lib/python3.7/dist-packages (from numba->quantecon) (0.34.0)\n",
            "Requirement already satisfied: chardet<4,>=3.0.2 in /usr/local/lib/python3.7/dist-packages (from requests->quantecon) (3.0.4)\n",
            "Requirement already satisfied: urllib3!=1.25.0,!=1.25.1,<1.26,>=1.21.1 in /usr/local/lib/python3.7/dist-packages (from requests->quantecon) (1.24.3)\n",
            "Requirement already satisfied: certifi>=2017.4.17 in /usr/local/lib/python3.7/dist-packages (from requests->quantecon) (2021.10.8)\n",
            "Requirement already satisfied: idna<3,>=2.5 in /usr/local/lib/python3.7/dist-packages (from requests->quantecon) (2.10)\n",
            "Requirement already satisfied: mpmath>=0.19 in /usr/local/lib/python3.7/dist-packages (from sympy->quantecon) (1.2.1)\n"
          ]
        },
        {
          "output_type": "execute_result",
          "data": {
            "text/plain": [
              "4"
            ]
          },
          "metadata": {},
          "execution_count": 36
        }
      ]
    },
    {
      "cell_type": "markdown",
      "source": [
        "# 3. Game Theory Explorer"
      ],
      "metadata": {
        "id": "loipec6iEg5Q"
      }
    },
    {
      "cell_type": "markdown",
      "source": [
        "## 3.1. What types of games and soution concepts can Game Theory Explorer deal with?"
      ],
      "metadata": {
        "id": "bXEf3SZLJqcr"
      }
    },
    {
      "cell_type": "markdown",
      "source": [
        "Game Theory Explorer (GTE) provides access to the software and the user interface. It is started in a [web browser](http://www.gametheoryexplorer.org) and offers all inetraction via the browser interface. The Game Theory Explorer software allows to create games in extensive or strategic form, and to compute their Nash equilibria, as it is primariy tailored for the applied game theorist who is not an expert in equilibrium computation. The analysis of a game with general mathematical parameters is also aided by knowing its equilibria for specific numerical values of those parameters. \n",
        "\n",
        "**Reference:**\n",
        "\n",
        "Savani, Rahul, and Bernhard von Stengel. 2014. “Game Theory Explorer: Software for the Applied Game Theorist.” Computational Management Science 12 (1): 5–33. https://doi.org/10.1007/s10287-014-0206-x."
      ],
      "metadata": {
        "id": "J0WtIRjLNnBL"
      }
    },
    {
      "cell_type": "markdown",
      "source": [
        "## 3.2. Apply NashPy to solve a solution concept on a specific game (your own choices) different from the case studies in the OER"
      ],
      "metadata": {
        "id": "qnMNNzIFKL4k"
      }
    },
    {
      "cell_type": "markdown",
      "source": [
        "# 4. Gambit"
      ],
      "metadata": {
        "id": "b1dIMT8lEj36"
      }
    },
    {
      "cell_type": "markdown",
      "source": [
        "## 4.1. What types of games and soution concepts can Gambit deal with?"
      ],
      "metadata": {
        "id": "Gdj5a0aTJzHt"
      }
    },
    {
      "cell_type": "markdown",
      "source": [
        "Gambit is a library of game theory software and tools for the construction and analysis of finite extensice and strategic games. It is fully-across platfrom, and is supported on Linux, Mac OS X, and Microsoft Windows. In terms of functions, it provides a flexible set of operations for constructing and editing general extensive games and has full support for constructing and manipulating arbitrary N-player strategic games and computing Nash equilibria in both extensive and strategic games.\n",
        "\n",
        "**Reference:**\n",
        "\n",
        "The Gambit Project. 2022. “Gambit Documentation Release 16.0.2 the Gambit Project.” https://buildmedia.readthedocs.org/media/pdf/gambitproject/latest/gambitproject.pdf."
      ],
      "metadata": {
        "id": "Aw9e0NI3NoMx"
      }
    },
    {
      "cell_type": "markdown",
      "source": [
        "## 4.2. Apply NashPy to solve a solution concept on a specific game (your own choices) different from the case studies in the OER"
      ],
      "metadata": {
        "id": "YeS85R93KOMt"
      }
    },
    {
      "cell_type": "code",
      "source": [
        "pip install pygambit"
      ],
      "metadata": {
        "id": "oCpMQxBZVonk",
        "outputId": "a3946303-e8d8-4f77-f24c-66a564bd4027",
        "colab": {
          "base_uri": "https://localhost:8080/"
        }
      },
      "execution_count": 1,
      "outputs": [
        {
          "output_type": "stream",
          "name": "stdout",
          "text": [
            "Collecting pygambit\n",
            "  Downloading pygambit-16.0.2.tar.gz (631 kB)\n",
            "\u001b[?25l\r\u001b[K     |▌                               | 10 kB 21.5 MB/s eta 0:00:01\r\u001b[K     |█                               | 20 kB 13.1 MB/s eta 0:00:01\r\u001b[K     |█▋                              | 30 kB 9.4 MB/s eta 0:00:01\r\u001b[K     |██                              | 40 kB 8.4 MB/s eta 0:00:01\r\u001b[K     |██▋                             | 51 kB 6.1 MB/s eta 0:00:01\r\u001b[K     |███▏                            | 61 kB 7.1 MB/s eta 0:00:01\r\u001b[K     |███▋                            | 71 kB 6.8 MB/s eta 0:00:01\r\u001b[K     |████▏                           | 81 kB 6.4 MB/s eta 0:00:01\r\u001b[K     |████▊                           | 92 kB 7.0 MB/s eta 0:00:01\r\u001b[K     |█████▏                          | 102 kB 6.6 MB/s eta 0:00:01\r\u001b[K     |█████▊                          | 112 kB 6.6 MB/s eta 0:00:01\r\u001b[K     |██████▎                         | 122 kB 6.6 MB/s eta 0:00:01\r\u001b[K     |██████▊                         | 133 kB 6.6 MB/s eta 0:00:01\r\u001b[K     |███████▎                        | 143 kB 6.6 MB/s eta 0:00:01\r\u001b[K     |███████▉                        | 153 kB 6.6 MB/s eta 0:00:01\r\u001b[K     |████████▎                       | 163 kB 6.6 MB/s eta 0:00:01\r\u001b[K     |████████▉                       | 174 kB 6.6 MB/s eta 0:00:01\r\u001b[K     |█████████▍                      | 184 kB 6.6 MB/s eta 0:00:01\r\u001b[K     |█████████▉                      | 194 kB 6.6 MB/s eta 0:00:01\r\u001b[K     |██████████▍                     | 204 kB 6.6 MB/s eta 0:00:01\r\u001b[K     |███████████                     | 215 kB 6.6 MB/s eta 0:00:01\r\u001b[K     |███████████▍                    | 225 kB 6.6 MB/s eta 0:00:01\r\u001b[K     |████████████                    | 235 kB 6.6 MB/s eta 0:00:01\r\u001b[K     |████████████▌                   | 245 kB 6.6 MB/s eta 0:00:01\r\u001b[K     |█████████████                   | 256 kB 6.6 MB/s eta 0:00:01\r\u001b[K     |█████████████▌                  | 266 kB 6.6 MB/s eta 0:00:01\r\u001b[K     |██████████████                  | 276 kB 6.6 MB/s eta 0:00:01\r\u001b[K     |██████████████▌                 | 286 kB 6.6 MB/s eta 0:00:01\r\u001b[K     |███████████████                 | 296 kB 6.6 MB/s eta 0:00:01\r\u001b[K     |███████████████▋                | 307 kB 6.6 MB/s eta 0:00:01\r\u001b[K     |████████████████                | 317 kB 6.6 MB/s eta 0:00:01\r\u001b[K     |████████████████▋               | 327 kB 6.6 MB/s eta 0:00:01\r\u001b[K     |█████████████████▏              | 337 kB 6.6 MB/s eta 0:00:01\r\u001b[K     |█████████████████▋              | 348 kB 6.6 MB/s eta 0:00:01\r\u001b[K     |██████████████████▏             | 358 kB 6.6 MB/s eta 0:00:01\r\u001b[K     |██████████████████▊             | 368 kB 6.6 MB/s eta 0:00:01\r\u001b[K     |███████████████████▏            | 378 kB 6.6 MB/s eta 0:00:01\r\u001b[K     |███████████████████▊            | 389 kB 6.6 MB/s eta 0:00:01\r\u001b[K     |████████████████████▎           | 399 kB 6.6 MB/s eta 0:00:01\r\u001b[K     |████████████████████▊           | 409 kB 6.6 MB/s eta 0:00:01\r\u001b[K     |█████████████████████▎          | 419 kB 6.6 MB/s eta 0:00:01\r\u001b[K     |█████████████████████▉          | 430 kB 6.6 MB/s eta 0:00:01\r\u001b[K     |██████████████████████▎         | 440 kB 6.6 MB/s eta 0:00:01\r\u001b[K     |██████████████████████▉         | 450 kB 6.6 MB/s eta 0:00:01\r\u001b[K     |███████████████████████▍        | 460 kB 6.6 MB/s eta 0:00:01\r\u001b[K     |███████████████████████▉        | 471 kB 6.6 MB/s eta 0:00:01\r\u001b[K     |████████████████████████▍       | 481 kB 6.6 MB/s eta 0:00:01\r\u001b[K     |█████████████████████████       | 491 kB 6.6 MB/s eta 0:00:01\r\u001b[K     |█████████████████████████▍      | 501 kB 6.6 MB/s eta 0:00:01\r\u001b[K     |██████████████████████████      | 512 kB 6.6 MB/s eta 0:00:01\r\u001b[K     |██████████████████████████▌     | 522 kB 6.6 MB/s eta 0:00:01\r\u001b[K     |███████████████████████████     | 532 kB 6.6 MB/s eta 0:00:01\r\u001b[K     |███████████████████████████▌    | 542 kB 6.6 MB/s eta 0:00:01\r\u001b[K     |████████████████████████████    | 552 kB 6.6 MB/s eta 0:00:01\r\u001b[K     |████████████████████████████▌   | 563 kB 6.6 MB/s eta 0:00:01\r\u001b[K     |█████████████████████████████   | 573 kB 6.6 MB/s eta 0:00:01\r\u001b[K     |█████████████████████████████▋  | 583 kB 6.6 MB/s eta 0:00:01\r\u001b[K     |██████████████████████████████  | 593 kB 6.6 MB/s eta 0:00:01\r\u001b[K     |██████████████████████████████▋ | 604 kB 6.6 MB/s eta 0:00:01\r\u001b[K     |███████████████████████████████▏| 614 kB 6.6 MB/s eta 0:00:01\r\u001b[K     |███████████████████████████████▋| 624 kB 6.6 MB/s eta 0:00:01\r\u001b[K     |████████████████████████████████| 631 kB 6.6 MB/s \n",
            "\u001b[?25h  Installing build dependencies ... \u001b[?25l\u001b[?25hdone\n",
            "  Getting requirements to build wheel ... \u001b[?25l\u001b[?25hdone\n",
            "    Preparing wheel metadata ... \u001b[?25l\u001b[?25hdone\n",
            "Requirement already satisfied: numpy in /usr/local/lib/python3.7/dist-packages (from pygambit) (1.21.5)\n",
            "Requirement already satisfied: scipy in /usr/local/lib/python3.7/dist-packages (from pygambit) (1.4.1)\n",
            "Requirement already satisfied: lxml in /usr/local/lib/python3.7/dist-packages (from pygambit) (4.2.6)\n",
            "Building wheels for collected packages: pygambit\n",
            "  Building wheel for pygambit (PEP 517) ... \u001b[?25l\u001b[?25hdone\n",
            "  Created wheel for pygambit: filename=pygambit-16.0.2-cp37-cp37m-linux_x86_64.whl size=7926351 sha256=f6bee0b5093b60fb5b225c8fa6edc3cca23aa0c2f62716c9a7697a720384d91d\n",
            "  Stored in directory: /root/.cache/pip/wheels/ee/d3/f6/ecede51bdaac1de47f81c06eb7fe9da5552540d2393ef5b14f\n",
            "Successfully built pygambit\n",
            "Installing collected packages: pygambit\n",
            "Successfully installed pygambit-16.0.2\n"
          ]
        }
      ]
    },
    {
      "cell_type": "code",
      "source": [
        "#The function Game.new_tree() creates a new, trivial extensive game, with no players, and only a root node:\n",
        "import pygambit\n",
        "g=pygambit.Game.new_tree()\n",
        "len(g.players)\n",
        "\n",
        "#The title attribute provides access to a game’s title:\n",
        "g.title=\"A simple poker example\"\n",
        "\n",
        "#Adding a player to the game:\n",
        "p=g.players.add(\"Natalie\")\n",
        "p\n"
      ],
      "metadata": {
        "id": "vB-ATp6QWcQz",
        "outputId": "c086fab3-0df2-44b8-ec2d-2884d9fa6a4a",
        "colab": {
          "base_uri": "https://localhost:8080/"
        }
      },
      "execution_count": 4,
      "outputs": [
        {
          "output_type": "execute_result",
          "data": {
            "text/plain": [
              "<Player [0] 'Natalie' in game 'A simple poker example'>"
            ]
          },
          "metadata": {},
          "execution_count": 4
        }
      ]
    },
    {
      "cell_type": "code",
      "source": [
        "#Building a strategic game\n",
        "#Creating a table which takes a list of integers specifying the number of strategies for each player\n",
        "g = pygambit.Game.new_table([2,2])\n",
        "g.title = \"A prisoner's dilemma game\"\n",
        "g.players[0].label = \"Natalie\"\n",
        "g.players[1].label = \"Mia\"\n",
        "g\n",
        "\n",
        "#The strategies collection for a player lists all the strategies available for that player:\n",
        "g.players[0].strategies\n",
        "len(g.players[0].strategies)\n",
        "g.players[0].strategies[0].label = \"Cooperate\"\n",
        "g.players[0].strategies[1].label = \"Defect\"\n",
        "g.players[0].strategies"
      ],
      "metadata": {
        "id": "e3kfEglGXahJ",
        "outputId": "336ed674-c786-4f17-9d68-a7c415803c87",
        "colab": {
          "base_uri": "https://localhost:8080/"
        }
      },
      "execution_count": 6,
      "outputs": [
        {
          "output_type": "execute_result",
          "data": {
            "text/plain": [
              "[<Strategy [0] 'Cooperate' for player 'Natalie' in game 'A prisoner's dilemma game'>, <Strategy [1] 'Defect' for player 'Natalie' in game 'A prisoner's dilemma game'>]"
            ]
          },
          "metadata": {},
          "execution_count": 6
        }
      ]
    },
    {
      "cell_type": "markdown",
      "source": [
        "# 5. Mesa [optional]"
      ],
      "metadata": {
        "id": "KaKVeBJSEmii"
      }
    },
    {
      "cell_type": "markdown",
      "source": [
        "## 5.1. What types of games and soution concepts can Mesa deal with?"
      ],
      "metadata": {
        "id": "OHrhd28BKRUt"
      }
    },
    {
      "cell_type": "markdown",
      "source": [
        "*Type your answers here. Plese provide in-text citations with hyperlink to the software documentations (required citations)*"
      ],
      "metadata": {
        "id": "C0TB1YdRNpiD"
      }
    },
    {
      "cell_type": "markdown",
      "source": [
        "## 5.2. Apply Mesa to solve a solution concept on a specific game (your own choices) different from the case studies in the OER"
      ],
      "metadata": {
        "id": "EHOmn9MzKXxm"
      }
    },
    {
      "cell_type": "markdown",
      "source": [
        "# References"
      ],
      "metadata": {
        "id": "UYtNIY9LIp1C"
      }
    },
    {
      "cell_type": "markdown",
      "source": [
        "*please provide references for all citations in [Chicago Author-Date Styles](https://www.chicagomanualofstyle.org/tools_citationguide/citation-guide-2.html)*"
      ],
      "metadata": {
        "id": "dAIK0eQiIxnh"
      }
    }
  ]
}